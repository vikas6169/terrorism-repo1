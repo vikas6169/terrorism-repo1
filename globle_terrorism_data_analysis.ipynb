{
  "nbformat": 4,
  "nbformat_minor": 0,
  "metadata": {
    "kernelspec": {
      "display_name": "Python 3",
      "language": "python",
      "name": "python3"
    },
    "language_info": {
      "codemirror_mode": {
        "name": "ipython",
        "version": 3
      },
      "file_extension": ".py",
      "mimetype": "text/x-python",
      "name": "python",
      "nbconvert_exporter": "python",
      "pygments_lexer": "ipython3",
      "version": "3.6.6"
    },
    "colab": {
      "name": "globle terrorism data analysis.ipynb",
      "provenance": [],
      "include_colab_link": true
    }
  },
  "cells": [
    {
      "cell_type": "markdown",
      "metadata": {
        "id": "view-in-github",
        "colab_type": "text"
      },
      "source": [
        "<a href=\"https://colab.research.google.com/github/vikas6169/terrorism-repo1/blob/main/globle_terrorism_data_analysis.ipynb\" target=\"_parent\"><img src=\"https://colab.research.google.com/assets/colab-badge.svg\" alt=\"Open In Colab\"/></a>"
      ]
    },
    {
      "cell_type": "markdown",
      "metadata": {
        "id": "Y06xIdG26kRF"
      },
      "source": [
        ""
      ]
    },
    {
      "cell_type": "code",
      "source": [
        "from google.colab import drive\n",
        "drive.mount('/content/drive')"
      ],
      "metadata": {
        "colab": {
          "base_uri": "https://localhost:8080/"
        },
        "id": "BWy9v6ggIcSB",
        "outputId": "578c3055-7a46-4d95-bbf3-ad8dbee2e461"
      },
      "execution_count": 1,
      "outputs": [
        {
          "output_type": "stream",
          "name": "stdout",
          "text": [
            "Mounted at /content/drive\n"
          ]
        }
      ]
    },
    {
      "cell_type": "code",
      "metadata": {
        "id": "dByMsuzT8Tnw"
      },
      "source": [
        "import pandas as pd\n",
        "import matplotlib.pyplot as plt\n",
        "import numpy as np\n",
        "import time\n",
        "from IPython.display import clear_output\n",
        "%matplotlib inline\n",
        "import warnings\n",
        "warnings.filterwarnings('ignore')"
      ],
      "execution_count": 2,
      "outputs": []
    },
    {
      "cell_type": "code",
      "source": [
        "df=pd.read_csv('/content/drive/MyDrive/Global terrorism data analysis- Vikas Kumar/Copy of Global Terrorism Data.csv',encoding='ISO-8859-1',low_memory=False)"
      ],
      "metadata": {
        "id": "PhI2Vvl_LVC5"
      },
      "execution_count": 3,
      "outputs": []
    },
    {
      "cell_type": "code",
      "source": [
        "df"
      ],
      "metadata": {
        "colab": {
          "base_uri": "https://localhost:8080/",
          "height": 922
        },
        "id": "MNhXDnLXMYGz",
        "outputId": "71af7aa6-1004-47d9-c900-10aafc4ddb18"
      },
      "execution_count": 4,
      "outputs": [
        {
          "output_type": "execute_result",
          "data": {
            "text/plain": [
              "             eventid  iyear  imonth  iday approxdate  extended resolution  \\\n",
              "0       197000000001   1970       7     2        NaN         0        NaN   \n",
              "1       197000000002   1970       0     0        NaN         0        NaN   \n",
              "2       197001000001   1970       1     0        NaN         0        NaN   \n",
              "3       197001000002   1970       1     0        NaN         0        NaN   \n",
              "4       197001000003   1970       1     0        NaN         0        NaN   \n",
              "...              ...    ...     ...   ...        ...       ...        ...   \n",
              "181686  201712310022   2017      12    31        NaN         0        NaN   \n",
              "181687  201712310029   2017      12    31        NaN         0        NaN   \n",
              "181688  201712310030   2017      12    31        NaN         0        NaN   \n",
              "181689  201712310031   2017      12    31        NaN         0        NaN   \n",
              "181690  201712310032   2017      12    31        NaN         0        NaN   \n",
              "\n",
              "        country         country_txt  region  ... addnotes  \\\n",
              "0            58  Dominican Republic       2  ...      NaN   \n",
              "1           130              Mexico       1  ...      NaN   \n",
              "2           160         Philippines       5  ...      NaN   \n",
              "3            78              Greece       8  ...      NaN   \n",
              "4           101               Japan       4  ...      NaN   \n",
              "...         ...                 ...     ...  ...      ...   \n",
              "181686      182             Somalia      11  ...      NaN   \n",
              "181687      200               Syria      10  ...      NaN   \n",
              "181688      160         Philippines       5  ...      NaN   \n",
              "181689       92               India       6  ...      NaN   \n",
              "181690      160         Philippines       5  ...      NaN   \n",
              "\n",
              "                                                   scite1  \\\n",
              "0                                                     NaN   \n",
              "1                                                     NaN   \n",
              "2                                                     NaN   \n",
              "3                                                     NaN   \n",
              "4                                                     NaN   \n",
              "...                                                   ...   \n",
              "181686  \"Somalia: Al-Shabaab Militants Attack Army Che...   \n",
              "181687  \"Putin's 'victory' in Syria has turned into a ...   \n",
              "181688  \"Maguindanao clashes trap tribe members,\" Phil...   \n",
              "181689  \"Trader escapes grenade attack in Imphal,\" Bus...   \n",
              "181690  \"Security tightened in Cotabato following IED ...   \n",
              "\n",
              "                                                   scite2  \\\n",
              "0                                                     NaN   \n",
              "1                                                     NaN   \n",
              "2                                                     NaN   \n",
              "3                                                     NaN   \n",
              "4                                                     NaN   \n",
              "...                                                   ...   \n",
              "181686  \"Highlights: Somalia Daily Media Highlights 2 ...   \n",
              "181687  \"Two Russian soldiers killed at Hmeymim base i...   \n",
              "181688                                                NaN   \n",
              "181689                                                NaN   \n",
              "181690  \"Security tightened in Cotabato City,\" Manila ...   \n",
              "\n",
              "                                                   scite3  \\\n",
              "0                                                     NaN   \n",
              "1                                                     NaN   \n",
              "2                                                     NaN   \n",
              "3                                                     NaN   \n",
              "4                                                     NaN   \n",
              "...                                                   ...   \n",
              "181686  \"Highlights: Somalia Daily Media Highlights 1 ...   \n",
              "181687  \"Two Russian servicemen killed in Syria mortar...   \n",
              "181688                                                NaN   \n",
              "181689                                                NaN   \n",
              "181690                                                NaN   \n",
              "\n",
              "                        dbsource  INT_LOG  INT_IDEO INT_MISC INT_ANY  related  \n",
              "0                           PGIS        0         0        0       0      NaN  \n",
              "1                           PGIS        0         1        1       1      NaN  \n",
              "2                           PGIS       -9        -9        1       1      NaN  \n",
              "3                           PGIS       -9        -9        1       1      NaN  \n",
              "4                           PGIS       -9        -9        1       1      NaN  \n",
              "...                          ...      ...       ...      ...     ...      ...  \n",
              "181686  START Primary Collection        0         0        0       0      NaN  \n",
              "181687  START Primary Collection       -9        -9        1       1      NaN  \n",
              "181688  START Primary Collection        0         0        0       0      NaN  \n",
              "181689  START Primary Collection       -9        -9        0      -9      NaN  \n",
              "181690  START Primary Collection       -9        -9        0      -9      NaN  \n",
              "\n",
              "[181691 rows x 135 columns]"
            ],
            "text/html": [
              "\n",
              "  <div id=\"df-7582b9db-1823-4276-ab7b-8d0cdfd14402\">\n",
              "    <div class=\"colab-df-container\">\n",
              "      <div>\n",
              "<style scoped>\n",
              "    .dataframe tbody tr th:only-of-type {\n",
              "        vertical-align: middle;\n",
              "    }\n",
              "\n",
              "    .dataframe tbody tr th {\n",
              "        vertical-align: top;\n",
              "    }\n",
              "\n",
              "    .dataframe thead th {\n",
              "        text-align: right;\n",
              "    }\n",
              "</style>\n",
              "<table border=\"1\" class=\"dataframe\">\n",
              "  <thead>\n",
              "    <tr style=\"text-align: right;\">\n",
              "      <th></th>\n",
              "      <th>eventid</th>\n",
              "      <th>iyear</th>\n",
              "      <th>imonth</th>\n",
              "      <th>iday</th>\n",
              "      <th>approxdate</th>\n",
              "      <th>extended</th>\n",
              "      <th>resolution</th>\n",
              "      <th>country</th>\n",
              "      <th>country_txt</th>\n",
              "      <th>region</th>\n",
              "      <th>...</th>\n",
              "      <th>addnotes</th>\n",
              "      <th>scite1</th>\n",
              "      <th>scite2</th>\n",
              "      <th>scite3</th>\n",
              "      <th>dbsource</th>\n",
              "      <th>INT_LOG</th>\n",
              "      <th>INT_IDEO</th>\n",
              "      <th>INT_MISC</th>\n",
              "      <th>INT_ANY</th>\n",
              "      <th>related</th>\n",
              "    </tr>\n",
              "  </thead>\n",
              "  <tbody>\n",
              "    <tr>\n",
              "      <th>0</th>\n",
              "      <td>197000000001</td>\n",
              "      <td>1970</td>\n",
              "      <td>7</td>\n",
              "      <td>2</td>\n",
              "      <td>NaN</td>\n",
              "      <td>0</td>\n",
              "      <td>NaN</td>\n",
              "      <td>58</td>\n",
              "      <td>Dominican Republic</td>\n",
              "      <td>2</td>\n",
              "      <td>...</td>\n",
              "      <td>NaN</td>\n",
              "      <td>NaN</td>\n",
              "      <td>NaN</td>\n",
              "      <td>NaN</td>\n",
              "      <td>PGIS</td>\n",
              "      <td>0</td>\n",
              "      <td>0</td>\n",
              "      <td>0</td>\n",
              "      <td>0</td>\n",
              "      <td>NaN</td>\n",
              "    </tr>\n",
              "    <tr>\n",
              "      <th>1</th>\n",
              "      <td>197000000002</td>\n",
              "      <td>1970</td>\n",
              "      <td>0</td>\n",
              "      <td>0</td>\n",
              "      <td>NaN</td>\n",
              "      <td>0</td>\n",
              "      <td>NaN</td>\n",
              "      <td>130</td>\n",
              "      <td>Mexico</td>\n",
              "      <td>1</td>\n",
              "      <td>...</td>\n",
              "      <td>NaN</td>\n",
              "      <td>NaN</td>\n",
              "      <td>NaN</td>\n",
              "      <td>NaN</td>\n",
              "      <td>PGIS</td>\n",
              "      <td>0</td>\n",
              "      <td>1</td>\n",
              "      <td>1</td>\n",
              "      <td>1</td>\n",
              "      <td>NaN</td>\n",
              "    </tr>\n",
              "    <tr>\n",
              "      <th>2</th>\n",
              "      <td>197001000001</td>\n",
              "      <td>1970</td>\n",
              "      <td>1</td>\n",
              "      <td>0</td>\n",
              "      <td>NaN</td>\n",
              "      <td>0</td>\n",
              "      <td>NaN</td>\n",
              "      <td>160</td>\n",
              "      <td>Philippines</td>\n",
              "      <td>5</td>\n",
              "      <td>...</td>\n",
              "      <td>NaN</td>\n",
              "      <td>NaN</td>\n",
              "      <td>NaN</td>\n",
              "      <td>NaN</td>\n",
              "      <td>PGIS</td>\n",
              "      <td>-9</td>\n",
              "      <td>-9</td>\n",
              "      <td>1</td>\n",
              "      <td>1</td>\n",
              "      <td>NaN</td>\n",
              "    </tr>\n",
              "    <tr>\n",
              "      <th>3</th>\n",
              "      <td>197001000002</td>\n",
              "      <td>1970</td>\n",
              "      <td>1</td>\n",
              "      <td>0</td>\n",
              "      <td>NaN</td>\n",
              "      <td>0</td>\n",
              "      <td>NaN</td>\n",
              "      <td>78</td>\n",
              "      <td>Greece</td>\n",
              "      <td>8</td>\n",
              "      <td>...</td>\n",
              "      <td>NaN</td>\n",
              "      <td>NaN</td>\n",
              "      <td>NaN</td>\n",
              "      <td>NaN</td>\n",
              "      <td>PGIS</td>\n",
              "      <td>-9</td>\n",
              "      <td>-9</td>\n",
              "      <td>1</td>\n",
              "      <td>1</td>\n",
              "      <td>NaN</td>\n",
              "    </tr>\n",
              "    <tr>\n",
              "      <th>4</th>\n",
              "      <td>197001000003</td>\n",
              "      <td>1970</td>\n",
              "      <td>1</td>\n",
              "      <td>0</td>\n",
              "      <td>NaN</td>\n",
              "      <td>0</td>\n",
              "      <td>NaN</td>\n",
              "      <td>101</td>\n",
              "      <td>Japan</td>\n",
              "      <td>4</td>\n",
              "      <td>...</td>\n",
              "      <td>NaN</td>\n",
              "      <td>NaN</td>\n",
              "      <td>NaN</td>\n",
              "      <td>NaN</td>\n",
              "      <td>PGIS</td>\n",
              "      <td>-9</td>\n",
              "      <td>-9</td>\n",
              "      <td>1</td>\n",
              "      <td>1</td>\n",
              "      <td>NaN</td>\n",
              "    </tr>\n",
              "    <tr>\n",
              "      <th>...</th>\n",
              "      <td>...</td>\n",
              "      <td>...</td>\n",
              "      <td>...</td>\n",
              "      <td>...</td>\n",
              "      <td>...</td>\n",
              "      <td>...</td>\n",
              "      <td>...</td>\n",
              "      <td>...</td>\n",
              "      <td>...</td>\n",
              "      <td>...</td>\n",
              "      <td>...</td>\n",
              "      <td>...</td>\n",
              "      <td>...</td>\n",
              "      <td>...</td>\n",
              "      <td>...</td>\n",
              "      <td>...</td>\n",
              "      <td>...</td>\n",
              "      <td>...</td>\n",
              "      <td>...</td>\n",
              "      <td>...</td>\n",
              "      <td>...</td>\n",
              "    </tr>\n",
              "    <tr>\n",
              "      <th>181686</th>\n",
              "      <td>201712310022</td>\n",
              "      <td>2017</td>\n",
              "      <td>12</td>\n",
              "      <td>31</td>\n",
              "      <td>NaN</td>\n",
              "      <td>0</td>\n",
              "      <td>NaN</td>\n",
              "      <td>182</td>\n",
              "      <td>Somalia</td>\n",
              "      <td>11</td>\n",
              "      <td>...</td>\n",
              "      <td>NaN</td>\n",
              "      <td>\"Somalia: Al-Shabaab Militants Attack Army Che...</td>\n",
              "      <td>\"Highlights: Somalia Daily Media Highlights 2 ...</td>\n",
              "      <td>\"Highlights: Somalia Daily Media Highlights 1 ...</td>\n",
              "      <td>START Primary Collection</td>\n",
              "      <td>0</td>\n",
              "      <td>0</td>\n",
              "      <td>0</td>\n",
              "      <td>0</td>\n",
              "      <td>NaN</td>\n",
              "    </tr>\n",
              "    <tr>\n",
              "      <th>181687</th>\n",
              "      <td>201712310029</td>\n",
              "      <td>2017</td>\n",
              "      <td>12</td>\n",
              "      <td>31</td>\n",
              "      <td>NaN</td>\n",
              "      <td>0</td>\n",
              "      <td>NaN</td>\n",
              "      <td>200</td>\n",
              "      <td>Syria</td>\n",
              "      <td>10</td>\n",
              "      <td>...</td>\n",
              "      <td>NaN</td>\n",
              "      <td>\"Putin's 'victory' in Syria has turned into a ...</td>\n",
              "      <td>\"Two Russian soldiers killed at Hmeymim base i...</td>\n",
              "      <td>\"Two Russian servicemen killed in Syria mortar...</td>\n",
              "      <td>START Primary Collection</td>\n",
              "      <td>-9</td>\n",
              "      <td>-9</td>\n",
              "      <td>1</td>\n",
              "      <td>1</td>\n",
              "      <td>NaN</td>\n",
              "    </tr>\n",
              "    <tr>\n",
              "      <th>181688</th>\n",
              "      <td>201712310030</td>\n",
              "      <td>2017</td>\n",
              "      <td>12</td>\n",
              "      <td>31</td>\n",
              "      <td>NaN</td>\n",
              "      <td>0</td>\n",
              "      <td>NaN</td>\n",
              "      <td>160</td>\n",
              "      <td>Philippines</td>\n",
              "      <td>5</td>\n",
              "      <td>...</td>\n",
              "      <td>NaN</td>\n",
              "      <td>\"Maguindanao clashes trap tribe members,\" Phil...</td>\n",
              "      <td>NaN</td>\n",
              "      <td>NaN</td>\n",
              "      <td>START Primary Collection</td>\n",
              "      <td>0</td>\n",
              "      <td>0</td>\n",
              "      <td>0</td>\n",
              "      <td>0</td>\n",
              "      <td>NaN</td>\n",
              "    </tr>\n",
              "    <tr>\n",
              "      <th>181689</th>\n",
              "      <td>201712310031</td>\n",
              "      <td>2017</td>\n",
              "      <td>12</td>\n",
              "      <td>31</td>\n",
              "      <td>NaN</td>\n",
              "      <td>0</td>\n",
              "      <td>NaN</td>\n",
              "      <td>92</td>\n",
              "      <td>India</td>\n",
              "      <td>6</td>\n",
              "      <td>...</td>\n",
              "      <td>NaN</td>\n",
              "      <td>\"Trader escapes grenade attack in Imphal,\" Bus...</td>\n",
              "      <td>NaN</td>\n",
              "      <td>NaN</td>\n",
              "      <td>START Primary Collection</td>\n",
              "      <td>-9</td>\n",
              "      <td>-9</td>\n",
              "      <td>0</td>\n",
              "      <td>-9</td>\n",
              "      <td>NaN</td>\n",
              "    </tr>\n",
              "    <tr>\n",
              "      <th>181690</th>\n",
              "      <td>201712310032</td>\n",
              "      <td>2017</td>\n",
              "      <td>12</td>\n",
              "      <td>31</td>\n",
              "      <td>NaN</td>\n",
              "      <td>0</td>\n",
              "      <td>NaN</td>\n",
              "      <td>160</td>\n",
              "      <td>Philippines</td>\n",
              "      <td>5</td>\n",
              "      <td>...</td>\n",
              "      <td>NaN</td>\n",
              "      <td>\"Security tightened in Cotabato following IED ...</td>\n",
              "      <td>\"Security tightened in Cotabato City,\" Manila ...</td>\n",
              "      <td>NaN</td>\n",
              "      <td>START Primary Collection</td>\n",
              "      <td>-9</td>\n",
              "      <td>-9</td>\n",
              "      <td>0</td>\n",
              "      <td>-9</td>\n",
              "      <td>NaN</td>\n",
              "    </tr>\n",
              "  </tbody>\n",
              "</table>\n",
              "<p>181691 rows × 135 columns</p>\n",
              "</div>\n",
              "      <button class=\"colab-df-convert\" onclick=\"convertToInteractive('df-7582b9db-1823-4276-ab7b-8d0cdfd14402')\"\n",
              "              title=\"Convert this dataframe to an interactive table.\"\n",
              "              style=\"display:none;\">\n",
              "        \n",
              "  <svg xmlns=\"http://www.w3.org/2000/svg\" height=\"24px\"viewBox=\"0 0 24 24\"\n",
              "       width=\"24px\">\n",
              "    <path d=\"M0 0h24v24H0V0z\" fill=\"none\"/>\n",
              "    <path d=\"M18.56 5.44l.94 2.06.94-2.06 2.06-.94-2.06-.94-.94-2.06-.94 2.06-2.06.94zm-11 1L8.5 8.5l.94-2.06 2.06-.94-2.06-.94L8.5 2.5l-.94 2.06-2.06.94zm10 10l.94 2.06.94-2.06 2.06-.94-2.06-.94-.94-2.06-.94 2.06-2.06.94z\"/><path d=\"M17.41 7.96l-1.37-1.37c-.4-.4-.92-.59-1.43-.59-.52 0-1.04.2-1.43.59L10.3 9.45l-7.72 7.72c-.78.78-.78 2.05 0 2.83L4 21.41c.39.39.9.59 1.41.59.51 0 1.02-.2 1.41-.59l7.78-7.78 2.81-2.81c.8-.78.8-2.07 0-2.86zM5.41 20L4 18.59l7.72-7.72 1.47 1.35L5.41 20z\"/>\n",
              "  </svg>\n",
              "      </button>\n",
              "      \n",
              "  <style>\n",
              "    .colab-df-container {\n",
              "      display:flex;\n",
              "      flex-wrap:wrap;\n",
              "      gap: 12px;\n",
              "    }\n",
              "\n",
              "    .colab-df-convert {\n",
              "      background-color: #E8F0FE;\n",
              "      border: none;\n",
              "      border-radius: 50%;\n",
              "      cursor: pointer;\n",
              "      display: none;\n",
              "      fill: #1967D2;\n",
              "      height: 32px;\n",
              "      padding: 0 0 0 0;\n",
              "      width: 32px;\n",
              "    }\n",
              "\n",
              "    .colab-df-convert:hover {\n",
              "      background-color: #E2EBFA;\n",
              "      box-shadow: 0px 1px 2px rgba(60, 64, 67, 0.3), 0px 1px 3px 1px rgba(60, 64, 67, 0.15);\n",
              "      fill: #174EA6;\n",
              "    }\n",
              "\n",
              "    [theme=dark] .colab-df-convert {\n",
              "      background-color: #3B4455;\n",
              "      fill: #D2E3FC;\n",
              "    }\n",
              "\n",
              "    [theme=dark] .colab-df-convert:hover {\n",
              "      background-color: #434B5C;\n",
              "      box-shadow: 0px 1px 3px 1px rgba(0, 0, 0, 0.15);\n",
              "      filter: drop-shadow(0px 1px 2px rgba(0, 0, 0, 0.3));\n",
              "      fill: #FFFFFF;\n",
              "    }\n",
              "  </style>\n",
              "\n",
              "      <script>\n",
              "        const buttonEl =\n",
              "          document.querySelector('#df-7582b9db-1823-4276-ab7b-8d0cdfd14402 button.colab-df-convert');\n",
              "        buttonEl.style.display =\n",
              "          google.colab.kernel.accessAllowed ? 'block' : 'none';\n",
              "\n",
              "        async function convertToInteractive(key) {\n",
              "          const element = document.querySelector('#df-7582b9db-1823-4276-ab7b-8d0cdfd14402');\n",
              "          const dataTable =\n",
              "            await google.colab.kernel.invokeFunction('convertToInteractive',\n",
              "                                                     [key], {});\n",
              "          if (!dataTable) return;\n",
              "\n",
              "          const docLinkHtml = 'Like what you see? Visit the ' +\n",
              "            '<a target=\"_blank\" href=https://colab.research.google.com/notebooks/data_table.ipynb>data table notebook</a>'\n",
              "            + ' to learn more about interactive tables.';\n",
              "          element.innerHTML = '';\n",
              "          dataTable['output_type'] = 'display_data';\n",
              "          await google.colab.output.renderOutput(dataTable, element);\n",
              "          const docLink = document.createElement('div');\n",
              "          docLink.innerHTML = docLinkHtml;\n",
              "          element.appendChild(docLink);\n",
              "        }\n",
              "      </script>\n",
              "    </div>\n",
              "  </div>\n",
              "  "
            ]
          },
          "metadata": {},
          "execution_count": 4
        }
      ]
    },
    {
      "cell_type": "code",
      "source": [
        "df.columns"
      ],
      "metadata": {
        "id": "R6CnA3b6Mg2d",
        "outputId": "cd0c3657-a05f-49b3-dbea-9f6da6e0417e",
        "colab": {
          "base_uri": "https://localhost:8080/"
        }
      },
      "execution_count": 5,
      "outputs": [
        {
          "output_type": "execute_result",
          "data": {
            "text/plain": [
              "Index(['eventid', 'iyear', 'imonth', 'iday', 'approxdate', 'extended',\n",
              "       'resolution', 'country', 'country_txt', 'region',\n",
              "       ...\n",
              "       'addnotes', 'scite1', 'scite2', 'scite3', 'dbsource', 'INT_LOG',\n",
              "       'INT_IDEO', 'INT_MISC', 'INT_ANY', 'related'],\n",
              "      dtype='object', length=135)"
            ]
          },
          "metadata": {},
          "execution_count": 5
        }
      ]
    },
    {
      "cell_type": "code",
      "source": [
        "df.shape"
      ],
      "metadata": {
        "id": "prTPo6iNbkRm",
        "outputId": "7e7cc4b0-0c4f-42c4-f0ae-a89b8943b339",
        "colab": {
          "base_uri": "https://localhost:8080/"
        }
      },
      "execution_count": 6,
      "outputs": [
        {
          "output_type": "execute_result",
          "data": {
            "text/plain": [
              "(181691, 135)"
            ]
          },
          "metadata": {},
          "execution_count": 6
        }
      ]
    },
    {
      "cell_type": "code",
      "source": [
        "df.rename(columns={'eventid':'Eventid', 'iyear':'Year', 'imonth':'Month', 'iday':'Day', \n",
        "                          'extended':'Extended', 'resolution':'Resolution',  'attacktype1_txt':'Attacktype', \n",
        "                          'country_txt':'Country', 'region_txt':'Region', 'provstate': 'Provstate', \n",
        "                          'city':'City', 'crit1':'Crit1', 'crit2':'Crit2', \n",
        "                          'crit3':'Crit3', 'multiple':'Multiple', 'success':'Success', 'suicide':'Suicide', \n",
        "                          'targtype1_txt':'Targtype', 'natlty1_txt':'Natlty1', 'natlty2_txt':'Natlty2', \n",
        "                          'natlty3_txt':'Natlty3', 'gname':'Gname', 'gname2':'Gname2', 'gname3':'Gname3', \n",
        "                          'guncertain1':'Guncertain1', 'guncertain2':'Guncertain2', 'guncertain3':'Guncertain3', \n",
        "                          'claimed':'Claimed', 'weaptype1_txt':'Weaptype', 'weapsubtype1_txt':'Weapsubtype', \n",
        "                          'nkill':'Nkill', 'nkillus':'Nkillus', 'nkillter':'Nkillter', 'nwound':'Nwound', \n",
        "                          'nwoundus':'Nwoundus', 'nwoundte':'Nwoundter', 'property':'Property', \n",
        "                          'propextent_txt':'Propextent', 'propvalue':'Propvalue', 'ishostkid':'Ishostkid', \n",
        "                          'nhostkid':'Nhostkid', 'nhostkidus':'Nhostkidus', 'ransom':'Ransom', \n",
        "                          'hostkidoutcome':'Hostkidoutcome', 'nreleased':'Nreleased'},inplace=True)"
      ],
      "metadata": {
        "id": "eX1nKP9BbsMw"
      },
      "execution_count": 7,
      "outputs": []
    },
    {
      "cell_type": "code",
      "source": [
        "newdf = df[['Eventid', 'Year','Country', 'Region', 'Provstate', 'City', 'Crit1', 'Crit2', 'Crit3', \n",
        "                  'Success', 'Suicide', 'Attacktype', 'Targtype', 'Natlty1','Gname', 'Guncertain1', \n",
        "                  'Claimed', 'Weaptype', 'Nkill','Nwound']]"
      ],
      "metadata": {
        "id": "yRxQ4BWGcEiP"
      },
      "execution_count": 8,
      "outputs": []
    },
    {
      "cell_type": "code",
      "source": [
        "newdf.columns"
      ],
      "metadata": {
        "id": "Y8cKrlyZdoBp",
        "outputId": "69128dea-5612-4475-cea1-2cb7838c7715",
        "colab": {
          "base_uri": "https://localhost:8080/"
        }
      },
      "execution_count": 9,
      "outputs": [
        {
          "output_type": "execute_result",
          "data": {
            "text/plain": [
              "Index(['Eventid', 'Year', 'Country', 'Region', 'Provstate', 'City', 'Crit1',\n",
              "       'Crit2', 'Crit3', 'Success', 'Suicide', 'Attacktype', 'Targtype',\n",
              "       'Natlty1', 'Gname', 'Guncertain1', 'Claimed', 'Weaptype', 'Nkill',\n",
              "       'Nwound'],\n",
              "      dtype='object')"
            ]
          },
          "metadata": {},
          "execution_count": 9
        }
      ]
    },
    {
      "cell_type": "code",
      "source": [
        "newdf.head(5)"
      ],
      "metadata": {
        "id": "yPKzwlRyd41l",
        "outputId": "0e7a393c-65cc-42e3-f129-65d06462c522",
        "colab": {
          "base_uri": "https://localhost:8080/",
          "height": 409
        }
      },
      "execution_count": 10,
      "outputs": [
        {
          "output_type": "execute_result",
          "data": {
            "text/plain": [
              "        Eventid  Year             Country                       Region  \\\n",
              "0  197000000001  1970  Dominican Republic  Central America & Caribbean   \n",
              "1  197000000002  1970              Mexico                North America   \n",
              "2  197001000001  1970         Philippines               Southeast Asia   \n",
              "3  197001000002  1970              Greece               Western Europe   \n",
              "4  197001000003  1970               Japan                    East Asia   \n",
              "\n",
              "  Provstate           City  Crit1  Crit2  Crit3  Success  Suicide  \\\n",
              "0       NaN  Santo Domingo      1      1      1        1        0   \n",
              "1   Federal    Mexico city      1      1      1        1        0   \n",
              "2    Tarlac        Unknown      1      1      1        1        0   \n",
              "3    Attica         Athens      1      1      1        1        0   \n",
              "4   Fukouka        Fukouka      1      1      1        1        0   \n",
              "\n",
              "                       Attacktype                     Targtype  \\\n",
              "0                   Assassination  Private Citizens & Property   \n",
              "1     Hostage Taking (Kidnapping)      Government (Diplomatic)   \n",
              "2                   Assassination          Journalists & Media   \n",
              "3               Bombing/Explosion      Government (Diplomatic)   \n",
              "4  Facility/Infrastructure Attack      Government (Diplomatic)   \n",
              "\n",
              "              Natlty1                               Gname  Guncertain1  \\\n",
              "0  Dominican Republic                              MANO-D          0.0   \n",
              "1             Belgium  23rd of September Communist League          0.0   \n",
              "2       United States                             Unknown          0.0   \n",
              "3       United States                             Unknown          0.0   \n",
              "4       United States                             Unknown          0.0   \n",
              "\n",
              "   Claimed    Weaptype  Nkill  Nwound  \n",
              "0      NaN     Unknown    1.0     0.0  \n",
              "1      NaN     Unknown    0.0     0.0  \n",
              "2      NaN     Unknown    1.0     0.0  \n",
              "3      NaN  Explosives    NaN     NaN  \n",
              "4      NaN  Incendiary    NaN     NaN  "
            ],
            "text/html": [
              "\n",
              "  <div id=\"df-2a78ada6-df75-4d5a-9e6a-cbadd84da4b5\">\n",
              "    <div class=\"colab-df-container\">\n",
              "      <div>\n",
              "<style scoped>\n",
              "    .dataframe tbody tr th:only-of-type {\n",
              "        vertical-align: middle;\n",
              "    }\n",
              "\n",
              "    .dataframe tbody tr th {\n",
              "        vertical-align: top;\n",
              "    }\n",
              "\n",
              "    .dataframe thead th {\n",
              "        text-align: right;\n",
              "    }\n",
              "</style>\n",
              "<table border=\"1\" class=\"dataframe\">\n",
              "  <thead>\n",
              "    <tr style=\"text-align: right;\">\n",
              "      <th></th>\n",
              "      <th>Eventid</th>\n",
              "      <th>Year</th>\n",
              "      <th>Country</th>\n",
              "      <th>Region</th>\n",
              "      <th>Provstate</th>\n",
              "      <th>City</th>\n",
              "      <th>Crit1</th>\n",
              "      <th>Crit2</th>\n",
              "      <th>Crit3</th>\n",
              "      <th>Success</th>\n",
              "      <th>Suicide</th>\n",
              "      <th>Attacktype</th>\n",
              "      <th>Targtype</th>\n",
              "      <th>Natlty1</th>\n",
              "      <th>Gname</th>\n",
              "      <th>Guncertain1</th>\n",
              "      <th>Claimed</th>\n",
              "      <th>Weaptype</th>\n",
              "      <th>Nkill</th>\n",
              "      <th>Nwound</th>\n",
              "    </tr>\n",
              "  </thead>\n",
              "  <tbody>\n",
              "    <tr>\n",
              "      <th>0</th>\n",
              "      <td>197000000001</td>\n",
              "      <td>1970</td>\n",
              "      <td>Dominican Republic</td>\n",
              "      <td>Central America &amp; Caribbean</td>\n",
              "      <td>NaN</td>\n",
              "      <td>Santo Domingo</td>\n",
              "      <td>1</td>\n",
              "      <td>1</td>\n",
              "      <td>1</td>\n",
              "      <td>1</td>\n",
              "      <td>0</td>\n",
              "      <td>Assassination</td>\n",
              "      <td>Private Citizens &amp; Property</td>\n",
              "      <td>Dominican Republic</td>\n",
              "      <td>MANO-D</td>\n",
              "      <td>0.0</td>\n",
              "      <td>NaN</td>\n",
              "      <td>Unknown</td>\n",
              "      <td>1.0</td>\n",
              "      <td>0.0</td>\n",
              "    </tr>\n",
              "    <tr>\n",
              "      <th>1</th>\n",
              "      <td>197000000002</td>\n",
              "      <td>1970</td>\n",
              "      <td>Mexico</td>\n",
              "      <td>North America</td>\n",
              "      <td>Federal</td>\n",
              "      <td>Mexico city</td>\n",
              "      <td>1</td>\n",
              "      <td>1</td>\n",
              "      <td>1</td>\n",
              "      <td>1</td>\n",
              "      <td>0</td>\n",
              "      <td>Hostage Taking (Kidnapping)</td>\n",
              "      <td>Government (Diplomatic)</td>\n",
              "      <td>Belgium</td>\n",
              "      <td>23rd of September Communist League</td>\n",
              "      <td>0.0</td>\n",
              "      <td>NaN</td>\n",
              "      <td>Unknown</td>\n",
              "      <td>0.0</td>\n",
              "      <td>0.0</td>\n",
              "    </tr>\n",
              "    <tr>\n",
              "      <th>2</th>\n",
              "      <td>197001000001</td>\n",
              "      <td>1970</td>\n",
              "      <td>Philippines</td>\n",
              "      <td>Southeast Asia</td>\n",
              "      <td>Tarlac</td>\n",
              "      <td>Unknown</td>\n",
              "      <td>1</td>\n",
              "      <td>1</td>\n",
              "      <td>1</td>\n",
              "      <td>1</td>\n",
              "      <td>0</td>\n",
              "      <td>Assassination</td>\n",
              "      <td>Journalists &amp; Media</td>\n",
              "      <td>United States</td>\n",
              "      <td>Unknown</td>\n",
              "      <td>0.0</td>\n",
              "      <td>NaN</td>\n",
              "      <td>Unknown</td>\n",
              "      <td>1.0</td>\n",
              "      <td>0.0</td>\n",
              "    </tr>\n",
              "    <tr>\n",
              "      <th>3</th>\n",
              "      <td>197001000002</td>\n",
              "      <td>1970</td>\n",
              "      <td>Greece</td>\n",
              "      <td>Western Europe</td>\n",
              "      <td>Attica</td>\n",
              "      <td>Athens</td>\n",
              "      <td>1</td>\n",
              "      <td>1</td>\n",
              "      <td>1</td>\n",
              "      <td>1</td>\n",
              "      <td>0</td>\n",
              "      <td>Bombing/Explosion</td>\n",
              "      <td>Government (Diplomatic)</td>\n",
              "      <td>United States</td>\n",
              "      <td>Unknown</td>\n",
              "      <td>0.0</td>\n",
              "      <td>NaN</td>\n",
              "      <td>Explosives</td>\n",
              "      <td>NaN</td>\n",
              "      <td>NaN</td>\n",
              "    </tr>\n",
              "    <tr>\n",
              "      <th>4</th>\n",
              "      <td>197001000003</td>\n",
              "      <td>1970</td>\n",
              "      <td>Japan</td>\n",
              "      <td>East Asia</td>\n",
              "      <td>Fukouka</td>\n",
              "      <td>Fukouka</td>\n",
              "      <td>1</td>\n",
              "      <td>1</td>\n",
              "      <td>1</td>\n",
              "      <td>1</td>\n",
              "      <td>0</td>\n",
              "      <td>Facility/Infrastructure Attack</td>\n",
              "      <td>Government (Diplomatic)</td>\n",
              "      <td>United States</td>\n",
              "      <td>Unknown</td>\n",
              "      <td>0.0</td>\n",
              "      <td>NaN</td>\n",
              "      <td>Incendiary</td>\n",
              "      <td>NaN</td>\n",
              "      <td>NaN</td>\n",
              "    </tr>\n",
              "  </tbody>\n",
              "</table>\n",
              "</div>\n",
              "      <button class=\"colab-df-convert\" onclick=\"convertToInteractive('df-2a78ada6-df75-4d5a-9e6a-cbadd84da4b5')\"\n",
              "              title=\"Convert this dataframe to an interactive table.\"\n",
              "              style=\"display:none;\">\n",
              "        \n",
              "  <svg xmlns=\"http://www.w3.org/2000/svg\" height=\"24px\"viewBox=\"0 0 24 24\"\n",
              "       width=\"24px\">\n",
              "    <path d=\"M0 0h24v24H0V0z\" fill=\"none\"/>\n",
              "    <path d=\"M18.56 5.44l.94 2.06.94-2.06 2.06-.94-2.06-.94-.94-2.06-.94 2.06-2.06.94zm-11 1L8.5 8.5l.94-2.06 2.06-.94-2.06-.94L8.5 2.5l-.94 2.06-2.06.94zm10 10l.94 2.06.94-2.06 2.06-.94-2.06-.94-.94-2.06-.94 2.06-2.06.94z\"/><path d=\"M17.41 7.96l-1.37-1.37c-.4-.4-.92-.59-1.43-.59-.52 0-1.04.2-1.43.59L10.3 9.45l-7.72 7.72c-.78.78-.78 2.05 0 2.83L4 21.41c.39.39.9.59 1.41.59.51 0 1.02-.2 1.41-.59l7.78-7.78 2.81-2.81c.8-.78.8-2.07 0-2.86zM5.41 20L4 18.59l7.72-7.72 1.47 1.35L5.41 20z\"/>\n",
              "  </svg>\n",
              "      </button>\n",
              "      \n",
              "  <style>\n",
              "    .colab-df-container {\n",
              "      display:flex;\n",
              "      flex-wrap:wrap;\n",
              "      gap: 12px;\n",
              "    }\n",
              "\n",
              "    .colab-df-convert {\n",
              "      background-color: #E8F0FE;\n",
              "      border: none;\n",
              "      border-radius: 50%;\n",
              "      cursor: pointer;\n",
              "      display: none;\n",
              "      fill: #1967D2;\n",
              "      height: 32px;\n",
              "      padding: 0 0 0 0;\n",
              "      width: 32px;\n",
              "    }\n",
              "\n",
              "    .colab-df-convert:hover {\n",
              "      background-color: #E2EBFA;\n",
              "      box-shadow: 0px 1px 2px rgba(60, 64, 67, 0.3), 0px 1px 3px 1px rgba(60, 64, 67, 0.15);\n",
              "      fill: #174EA6;\n",
              "    }\n",
              "\n",
              "    [theme=dark] .colab-df-convert {\n",
              "      background-color: #3B4455;\n",
              "      fill: #D2E3FC;\n",
              "    }\n",
              "\n",
              "    [theme=dark] .colab-df-convert:hover {\n",
              "      background-color: #434B5C;\n",
              "      box-shadow: 0px 1px 3px 1px rgba(0, 0, 0, 0.15);\n",
              "      filter: drop-shadow(0px 1px 2px rgba(0, 0, 0, 0.3));\n",
              "      fill: #FFFFFF;\n",
              "    }\n",
              "  </style>\n",
              "\n",
              "      <script>\n",
              "        const buttonEl =\n",
              "          document.querySelector('#df-2a78ada6-df75-4d5a-9e6a-cbadd84da4b5 button.colab-df-convert');\n",
              "        buttonEl.style.display =\n",
              "          google.colab.kernel.accessAllowed ? 'block' : 'none';\n",
              "\n",
              "        async function convertToInteractive(key) {\n",
              "          const element = document.querySelector('#df-2a78ada6-df75-4d5a-9e6a-cbadd84da4b5');\n",
              "          const dataTable =\n",
              "            await google.colab.kernel.invokeFunction('convertToInteractive',\n",
              "                                                     [key], {});\n",
              "          if (!dataTable) return;\n",
              "\n",
              "          const docLinkHtml = 'Like what you see? Visit the ' +\n",
              "            '<a target=\"_blank\" href=https://colab.research.google.com/notebooks/data_table.ipynb>data table notebook</a>'\n",
              "            + ' to learn more about interactive tables.';\n",
              "          element.innerHTML = '';\n",
              "          dataTable['output_type'] = 'display_data';\n",
              "          await google.colab.output.renderOutput(dataTable, element);\n",
              "          const docLink = document.createElement('div');\n",
              "          docLink.innerHTML = docLinkHtml;\n",
              "          element.appendChild(docLink);\n",
              "        }\n",
              "      </script>\n",
              "    </div>\n",
              "  </div>\n",
              "  "
            ]
          },
          "metadata": {},
          "execution_count": 10
        }
      ]
    },
    {
      "cell_type": "code",
      "source": [
        "newdf.tail()"
      ],
      "metadata": {
        "id": "o7m9gdQRezrB",
        "outputId": "b17d4ad1-6d20-4642-86cf-dd1cc702b821",
        "colab": {
          "base_uri": "https://localhost:8080/",
          "height": 461
        }
      },
      "execution_count": 11,
      "outputs": [
        {
          "output_type": "execute_result",
          "data": {
            "text/plain": [
              "             Eventid  Year      Country                      Region  \\\n",
              "181686  201712310022  2017      Somalia          Sub-Saharan Africa   \n",
              "181687  201712310029  2017        Syria  Middle East & North Africa   \n",
              "181688  201712310030  2017  Philippines              Southeast Asia   \n",
              "181689  201712310031  2017        India                  South Asia   \n",
              "181690  201712310032  2017  Philippines              Southeast Asia   \n",
              "\n",
              "              Provstate           City  Crit1  Crit2  Crit3  Success  Suicide  \\\n",
              "181686  Middle Shebelle  Ceelka Geelow      1      1      0        1        0   \n",
              "181687         Lattakia         Jableh      1      1      0        1        0   \n",
              "181688      Maguindanao       Kubentog      1      1      1        1        0   \n",
              "181689          Manipur         Imphal      1      1      1        0        0   \n",
              "181690      Maguindanao  Cotabato City      1      1      1        0        0   \n",
              "\n",
              "                            Attacktype                     Targtype  \\\n",
              "181686                   Armed Assault                     Military   \n",
              "181687               Bombing/Explosion                     Military   \n",
              "181688  Facility/Infrastructure Attack  Private Citizens & Property   \n",
              "181689               Bombing/Explosion         Government (General)   \n",
              "181690               Bombing/Explosion                      Unknown   \n",
              "\n",
              "            Natlty1                                       Gname  Guncertain1  \\\n",
              "181686      Somalia                                  Al-Shabaab          0.0   \n",
              "181687       Russia                           Muslim extremists          0.0   \n",
              "181688  Philippines  Bangsamoro Islamic Freedom Movement (BIFM)          0.0   \n",
              "181689        India                                     Unknown          0.0   \n",
              "181690  Philippines                                     Unknown          0.0   \n",
              "\n",
              "        Claimed    Weaptype  Nkill  Nwound  \n",
              "181686      1.0    Firearms    1.0     2.0  \n",
              "181687      0.0  Explosives    2.0     7.0  \n",
              "181688      0.0  Incendiary    0.0     0.0  \n",
              "181689      0.0  Explosives    0.0     0.0  \n",
              "181690      0.0  Explosives    0.0     0.0  "
            ],
            "text/html": [
              "\n",
              "  <div id=\"df-53d1eb3a-93f2-4b36-8100-ab70d45e04e3\">\n",
              "    <div class=\"colab-df-container\">\n",
              "      <div>\n",
              "<style scoped>\n",
              "    .dataframe tbody tr th:only-of-type {\n",
              "        vertical-align: middle;\n",
              "    }\n",
              "\n",
              "    .dataframe tbody tr th {\n",
              "        vertical-align: top;\n",
              "    }\n",
              "\n",
              "    .dataframe thead th {\n",
              "        text-align: right;\n",
              "    }\n",
              "</style>\n",
              "<table border=\"1\" class=\"dataframe\">\n",
              "  <thead>\n",
              "    <tr style=\"text-align: right;\">\n",
              "      <th></th>\n",
              "      <th>Eventid</th>\n",
              "      <th>Year</th>\n",
              "      <th>Country</th>\n",
              "      <th>Region</th>\n",
              "      <th>Provstate</th>\n",
              "      <th>City</th>\n",
              "      <th>Crit1</th>\n",
              "      <th>Crit2</th>\n",
              "      <th>Crit3</th>\n",
              "      <th>Success</th>\n",
              "      <th>Suicide</th>\n",
              "      <th>Attacktype</th>\n",
              "      <th>Targtype</th>\n",
              "      <th>Natlty1</th>\n",
              "      <th>Gname</th>\n",
              "      <th>Guncertain1</th>\n",
              "      <th>Claimed</th>\n",
              "      <th>Weaptype</th>\n",
              "      <th>Nkill</th>\n",
              "      <th>Nwound</th>\n",
              "    </tr>\n",
              "  </thead>\n",
              "  <tbody>\n",
              "    <tr>\n",
              "      <th>181686</th>\n",
              "      <td>201712310022</td>\n",
              "      <td>2017</td>\n",
              "      <td>Somalia</td>\n",
              "      <td>Sub-Saharan Africa</td>\n",
              "      <td>Middle Shebelle</td>\n",
              "      <td>Ceelka Geelow</td>\n",
              "      <td>1</td>\n",
              "      <td>1</td>\n",
              "      <td>0</td>\n",
              "      <td>1</td>\n",
              "      <td>0</td>\n",
              "      <td>Armed Assault</td>\n",
              "      <td>Military</td>\n",
              "      <td>Somalia</td>\n",
              "      <td>Al-Shabaab</td>\n",
              "      <td>0.0</td>\n",
              "      <td>1.0</td>\n",
              "      <td>Firearms</td>\n",
              "      <td>1.0</td>\n",
              "      <td>2.0</td>\n",
              "    </tr>\n",
              "    <tr>\n",
              "      <th>181687</th>\n",
              "      <td>201712310029</td>\n",
              "      <td>2017</td>\n",
              "      <td>Syria</td>\n",
              "      <td>Middle East &amp; North Africa</td>\n",
              "      <td>Lattakia</td>\n",
              "      <td>Jableh</td>\n",
              "      <td>1</td>\n",
              "      <td>1</td>\n",
              "      <td>0</td>\n",
              "      <td>1</td>\n",
              "      <td>0</td>\n",
              "      <td>Bombing/Explosion</td>\n",
              "      <td>Military</td>\n",
              "      <td>Russia</td>\n",
              "      <td>Muslim extremists</td>\n",
              "      <td>0.0</td>\n",
              "      <td>0.0</td>\n",
              "      <td>Explosives</td>\n",
              "      <td>2.0</td>\n",
              "      <td>7.0</td>\n",
              "    </tr>\n",
              "    <tr>\n",
              "      <th>181688</th>\n",
              "      <td>201712310030</td>\n",
              "      <td>2017</td>\n",
              "      <td>Philippines</td>\n",
              "      <td>Southeast Asia</td>\n",
              "      <td>Maguindanao</td>\n",
              "      <td>Kubentog</td>\n",
              "      <td>1</td>\n",
              "      <td>1</td>\n",
              "      <td>1</td>\n",
              "      <td>1</td>\n",
              "      <td>0</td>\n",
              "      <td>Facility/Infrastructure Attack</td>\n",
              "      <td>Private Citizens &amp; Property</td>\n",
              "      <td>Philippines</td>\n",
              "      <td>Bangsamoro Islamic Freedom Movement (BIFM)</td>\n",
              "      <td>0.0</td>\n",
              "      <td>0.0</td>\n",
              "      <td>Incendiary</td>\n",
              "      <td>0.0</td>\n",
              "      <td>0.0</td>\n",
              "    </tr>\n",
              "    <tr>\n",
              "      <th>181689</th>\n",
              "      <td>201712310031</td>\n",
              "      <td>2017</td>\n",
              "      <td>India</td>\n",
              "      <td>South Asia</td>\n",
              "      <td>Manipur</td>\n",
              "      <td>Imphal</td>\n",
              "      <td>1</td>\n",
              "      <td>1</td>\n",
              "      <td>1</td>\n",
              "      <td>0</td>\n",
              "      <td>0</td>\n",
              "      <td>Bombing/Explosion</td>\n",
              "      <td>Government (General)</td>\n",
              "      <td>India</td>\n",
              "      <td>Unknown</td>\n",
              "      <td>0.0</td>\n",
              "      <td>0.0</td>\n",
              "      <td>Explosives</td>\n",
              "      <td>0.0</td>\n",
              "      <td>0.0</td>\n",
              "    </tr>\n",
              "    <tr>\n",
              "      <th>181690</th>\n",
              "      <td>201712310032</td>\n",
              "      <td>2017</td>\n",
              "      <td>Philippines</td>\n",
              "      <td>Southeast Asia</td>\n",
              "      <td>Maguindanao</td>\n",
              "      <td>Cotabato City</td>\n",
              "      <td>1</td>\n",
              "      <td>1</td>\n",
              "      <td>1</td>\n",
              "      <td>0</td>\n",
              "      <td>0</td>\n",
              "      <td>Bombing/Explosion</td>\n",
              "      <td>Unknown</td>\n",
              "      <td>Philippines</td>\n",
              "      <td>Unknown</td>\n",
              "      <td>0.0</td>\n",
              "      <td>0.0</td>\n",
              "      <td>Explosives</td>\n",
              "      <td>0.0</td>\n",
              "      <td>0.0</td>\n",
              "    </tr>\n",
              "  </tbody>\n",
              "</table>\n",
              "</div>\n",
              "      <button class=\"colab-df-convert\" onclick=\"convertToInteractive('df-53d1eb3a-93f2-4b36-8100-ab70d45e04e3')\"\n",
              "              title=\"Convert this dataframe to an interactive table.\"\n",
              "              style=\"display:none;\">\n",
              "        \n",
              "  <svg xmlns=\"http://www.w3.org/2000/svg\" height=\"24px\"viewBox=\"0 0 24 24\"\n",
              "       width=\"24px\">\n",
              "    <path d=\"M0 0h24v24H0V0z\" fill=\"none\"/>\n",
              "    <path d=\"M18.56 5.44l.94 2.06.94-2.06 2.06-.94-2.06-.94-.94-2.06-.94 2.06-2.06.94zm-11 1L8.5 8.5l.94-2.06 2.06-.94-2.06-.94L8.5 2.5l-.94 2.06-2.06.94zm10 10l.94 2.06.94-2.06 2.06-.94-2.06-.94-.94-2.06-.94 2.06-2.06.94z\"/><path d=\"M17.41 7.96l-1.37-1.37c-.4-.4-.92-.59-1.43-.59-.52 0-1.04.2-1.43.59L10.3 9.45l-7.72 7.72c-.78.78-.78 2.05 0 2.83L4 21.41c.39.39.9.59 1.41.59.51 0 1.02-.2 1.41-.59l7.78-7.78 2.81-2.81c.8-.78.8-2.07 0-2.86zM5.41 20L4 18.59l7.72-7.72 1.47 1.35L5.41 20z\"/>\n",
              "  </svg>\n",
              "      </button>\n",
              "      \n",
              "  <style>\n",
              "    .colab-df-container {\n",
              "      display:flex;\n",
              "      flex-wrap:wrap;\n",
              "      gap: 12px;\n",
              "    }\n",
              "\n",
              "    .colab-df-convert {\n",
              "      background-color: #E8F0FE;\n",
              "      border: none;\n",
              "      border-radius: 50%;\n",
              "      cursor: pointer;\n",
              "      display: none;\n",
              "      fill: #1967D2;\n",
              "      height: 32px;\n",
              "      padding: 0 0 0 0;\n",
              "      width: 32px;\n",
              "    }\n",
              "\n",
              "    .colab-df-convert:hover {\n",
              "      background-color: #E2EBFA;\n",
              "      box-shadow: 0px 1px 2px rgba(60, 64, 67, 0.3), 0px 1px 3px 1px rgba(60, 64, 67, 0.15);\n",
              "      fill: #174EA6;\n",
              "    }\n",
              "\n",
              "    [theme=dark] .colab-df-convert {\n",
              "      background-color: #3B4455;\n",
              "      fill: #D2E3FC;\n",
              "    }\n",
              "\n",
              "    [theme=dark] .colab-df-convert:hover {\n",
              "      background-color: #434B5C;\n",
              "      box-shadow: 0px 1px 3px 1px rgba(0, 0, 0, 0.15);\n",
              "      filter: drop-shadow(0px 1px 2px rgba(0, 0, 0, 0.3));\n",
              "      fill: #FFFFFF;\n",
              "    }\n",
              "  </style>\n",
              "\n",
              "      <script>\n",
              "        const buttonEl =\n",
              "          document.querySelector('#df-53d1eb3a-93f2-4b36-8100-ab70d45e04e3 button.colab-df-convert');\n",
              "        buttonEl.style.display =\n",
              "          google.colab.kernel.accessAllowed ? 'block' : 'none';\n",
              "\n",
              "        async function convertToInteractive(key) {\n",
              "          const element = document.querySelector('#df-53d1eb3a-93f2-4b36-8100-ab70d45e04e3');\n",
              "          const dataTable =\n",
              "            await google.colab.kernel.invokeFunction('convertToInteractive',\n",
              "                                                     [key], {});\n",
              "          if (!dataTable) return;\n",
              "\n",
              "          const docLinkHtml = 'Like what you see? Visit the ' +\n",
              "            '<a target=\"_blank\" href=https://colab.research.google.com/notebooks/data_table.ipynb>data table notebook</a>'\n",
              "            + ' to learn more about interactive tables.';\n",
              "          element.innerHTML = '';\n",
              "          dataTable['output_type'] = 'display_data';\n",
              "          await google.colab.output.renderOutput(dataTable, element);\n",
              "          const docLink = document.createElement('div');\n",
              "          docLink.innerHTML = docLinkHtml;\n",
              "          element.appendChild(docLink);\n",
              "        }\n",
              "      </script>\n",
              "    </div>\n",
              "  </div>\n",
              "  "
            ]
          },
          "metadata": {},
          "execution_count": 11
        }
      ]
    },
    {
      "cell_type": "code",
      "source": [
        "newdf.info()"
      ],
      "metadata": {
        "id": "g53Gjiz23Fv_",
        "outputId": "21d2a8de-3c89-4991-b7b3-620ac51d982c",
        "colab": {
          "base_uri": "https://localhost:8080/"
        }
      },
      "execution_count": 12,
      "outputs": [
        {
          "output_type": "stream",
          "name": "stdout",
          "text": [
            "<class 'pandas.core.frame.DataFrame'>\n",
            "RangeIndex: 181691 entries, 0 to 181690\n",
            "Data columns (total 20 columns):\n",
            " #   Column       Non-Null Count   Dtype  \n",
            "---  ------       --------------   -----  \n",
            " 0   Eventid      181691 non-null  int64  \n",
            " 1   Year         181691 non-null  int64  \n",
            " 2   Country      181691 non-null  object \n",
            " 3   Region       181691 non-null  object \n",
            " 4   Provstate    181270 non-null  object \n",
            " 5   City         181257 non-null  object \n",
            " 6   Crit1        181691 non-null  int64  \n",
            " 7   Crit2        181691 non-null  int64  \n",
            " 8   Crit3        181691 non-null  int64  \n",
            " 9   Success      181691 non-null  int64  \n",
            " 10  Suicide      181691 non-null  int64  \n",
            " 11  Attacktype   181691 non-null  object \n",
            " 12  Targtype     181691 non-null  object \n",
            " 13  Natlty1      180132 non-null  object \n",
            " 14  Gname        181691 non-null  object \n",
            " 15  Guncertain1  181311 non-null  float64\n",
            " 16  Claimed      115571 non-null  float64\n",
            " 17  Weaptype     181691 non-null  object \n",
            " 18  Nkill        171378 non-null  float64\n",
            " 19  Nwound       165380 non-null  float64\n",
            "dtypes: float64(4), int64(7), object(9)\n",
            "memory usage: 27.7+ MB\n"
          ]
        }
      ]
    },
    {
      "cell_type": "code",
      "source": [
        "newdf.describe()"
      ],
      "metadata": {
        "id": "oFpsgyxB3ail",
        "outputId": "bfcaacda-3b95-4d47-bcf7-53d64db44b68",
        "colab": {
          "base_uri": "https://localhost:8080/",
          "height": 364
        }
      },
      "execution_count": 13,
      "outputs": [
        {
          "output_type": "execute_result",
          "data": {
            "text/plain": [
              "            Eventid           Year          Crit1          Crit2  \\\n",
              "count  1.816910e+05  181691.000000  181691.000000  181691.000000   \n",
              "mean   2.002705e+11    2002.638997       0.988530       0.993093   \n",
              "std    1.325957e+09      13.259430       0.106483       0.082823   \n",
              "min    1.970000e+11    1970.000000       0.000000       0.000000   \n",
              "25%    1.991021e+11    1991.000000       1.000000       1.000000   \n",
              "50%    2.009022e+11    2009.000000       1.000000       1.000000   \n",
              "75%    2.014081e+11    2014.000000       1.000000       1.000000   \n",
              "max    2.017123e+11    2017.000000       1.000000       1.000000   \n",
              "\n",
              "               Crit3        Success        Suicide    Guncertain1  \\\n",
              "count  181691.000000  181691.000000  181691.000000  181311.000000   \n",
              "mean        0.875668       0.889598       0.036507       0.081440   \n",
              "std         0.329961       0.313391       0.187549       0.273511   \n",
              "min         0.000000       0.000000       0.000000       0.000000   \n",
              "25%         1.000000       1.000000       0.000000       0.000000   \n",
              "50%         1.000000       1.000000       0.000000       0.000000   \n",
              "75%         1.000000       1.000000       0.000000       0.000000   \n",
              "max         1.000000       1.000000       1.000000       1.000000   \n",
              "\n",
              "             Claimed          Nkill         Nwound  \n",
              "count  115571.000000  171378.000000  165380.000000  \n",
              "mean        0.049666       2.403272       3.167668  \n",
              "std         1.093195      11.545741      35.949392  \n",
              "min        -9.000000       0.000000       0.000000  \n",
              "25%         0.000000       0.000000       0.000000  \n",
              "50%         0.000000       0.000000       0.000000  \n",
              "75%         0.000000       2.000000       2.000000  \n",
              "max         1.000000    1570.000000    8191.000000  "
            ],
            "text/html": [
              "\n",
              "  <div id=\"df-52fcf918-404d-46eb-9a0e-6842ce151856\">\n",
              "    <div class=\"colab-df-container\">\n",
              "      <div>\n",
              "<style scoped>\n",
              "    .dataframe tbody tr th:only-of-type {\n",
              "        vertical-align: middle;\n",
              "    }\n",
              "\n",
              "    .dataframe tbody tr th {\n",
              "        vertical-align: top;\n",
              "    }\n",
              "\n",
              "    .dataframe thead th {\n",
              "        text-align: right;\n",
              "    }\n",
              "</style>\n",
              "<table border=\"1\" class=\"dataframe\">\n",
              "  <thead>\n",
              "    <tr style=\"text-align: right;\">\n",
              "      <th></th>\n",
              "      <th>Eventid</th>\n",
              "      <th>Year</th>\n",
              "      <th>Crit1</th>\n",
              "      <th>Crit2</th>\n",
              "      <th>Crit3</th>\n",
              "      <th>Success</th>\n",
              "      <th>Suicide</th>\n",
              "      <th>Guncertain1</th>\n",
              "      <th>Claimed</th>\n",
              "      <th>Nkill</th>\n",
              "      <th>Nwound</th>\n",
              "    </tr>\n",
              "  </thead>\n",
              "  <tbody>\n",
              "    <tr>\n",
              "      <th>count</th>\n",
              "      <td>1.816910e+05</td>\n",
              "      <td>181691.000000</td>\n",
              "      <td>181691.000000</td>\n",
              "      <td>181691.000000</td>\n",
              "      <td>181691.000000</td>\n",
              "      <td>181691.000000</td>\n",
              "      <td>181691.000000</td>\n",
              "      <td>181311.000000</td>\n",
              "      <td>115571.000000</td>\n",
              "      <td>171378.000000</td>\n",
              "      <td>165380.000000</td>\n",
              "    </tr>\n",
              "    <tr>\n",
              "      <th>mean</th>\n",
              "      <td>2.002705e+11</td>\n",
              "      <td>2002.638997</td>\n",
              "      <td>0.988530</td>\n",
              "      <td>0.993093</td>\n",
              "      <td>0.875668</td>\n",
              "      <td>0.889598</td>\n",
              "      <td>0.036507</td>\n",
              "      <td>0.081440</td>\n",
              "      <td>0.049666</td>\n",
              "      <td>2.403272</td>\n",
              "      <td>3.167668</td>\n",
              "    </tr>\n",
              "    <tr>\n",
              "      <th>std</th>\n",
              "      <td>1.325957e+09</td>\n",
              "      <td>13.259430</td>\n",
              "      <td>0.106483</td>\n",
              "      <td>0.082823</td>\n",
              "      <td>0.329961</td>\n",
              "      <td>0.313391</td>\n",
              "      <td>0.187549</td>\n",
              "      <td>0.273511</td>\n",
              "      <td>1.093195</td>\n",
              "      <td>11.545741</td>\n",
              "      <td>35.949392</td>\n",
              "    </tr>\n",
              "    <tr>\n",
              "      <th>min</th>\n",
              "      <td>1.970000e+11</td>\n",
              "      <td>1970.000000</td>\n",
              "      <td>0.000000</td>\n",
              "      <td>0.000000</td>\n",
              "      <td>0.000000</td>\n",
              "      <td>0.000000</td>\n",
              "      <td>0.000000</td>\n",
              "      <td>0.000000</td>\n",
              "      <td>-9.000000</td>\n",
              "      <td>0.000000</td>\n",
              "      <td>0.000000</td>\n",
              "    </tr>\n",
              "    <tr>\n",
              "      <th>25%</th>\n",
              "      <td>1.991021e+11</td>\n",
              "      <td>1991.000000</td>\n",
              "      <td>1.000000</td>\n",
              "      <td>1.000000</td>\n",
              "      <td>1.000000</td>\n",
              "      <td>1.000000</td>\n",
              "      <td>0.000000</td>\n",
              "      <td>0.000000</td>\n",
              "      <td>0.000000</td>\n",
              "      <td>0.000000</td>\n",
              "      <td>0.000000</td>\n",
              "    </tr>\n",
              "    <tr>\n",
              "      <th>50%</th>\n",
              "      <td>2.009022e+11</td>\n",
              "      <td>2009.000000</td>\n",
              "      <td>1.000000</td>\n",
              "      <td>1.000000</td>\n",
              "      <td>1.000000</td>\n",
              "      <td>1.000000</td>\n",
              "      <td>0.000000</td>\n",
              "      <td>0.000000</td>\n",
              "      <td>0.000000</td>\n",
              "      <td>0.000000</td>\n",
              "      <td>0.000000</td>\n",
              "    </tr>\n",
              "    <tr>\n",
              "      <th>75%</th>\n",
              "      <td>2.014081e+11</td>\n",
              "      <td>2014.000000</td>\n",
              "      <td>1.000000</td>\n",
              "      <td>1.000000</td>\n",
              "      <td>1.000000</td>\n",
              "      <td>1.000000</td>\n",
              "      <td>0.000000</td>\n",
              "      <td>0.000000</td>\n",
              "      <td>0.000000</td>\n",
              "      <td>2.000000</td>\n",
              "      <td>2.000000</td>\n",
              "    </tr>\n",
              "    <tr>\n",
              "      <th>max</th>\n",
              "      <td>2.017123e+11</td>\n",
              "      <td>2017.000000</td>\n",
              "      <td>1.000000</td>\n",
              "      <td>1.000000</td>\n",
              "      <td>1.000000</td>\n",
              "      <td>1.000000</td>\n",
              "      <td>1.000000</td>\n",
              "      <td>1.000000</td>\n",
              "      <td>1.000000</td>\n",
              "      <td>1570.000000</td>\n",
              "      <td>8191.000000</td>\n",
              "    </tr>\n",
              "  </tbody>\n",
              "</table>\n",
              "</div>\n",
              "      <button class=\"colab-df-convert\" onclick=\"convertToInteractive('df-52fcf918-404d-46eb-9a0e-6842ce151856')\"\n",
              "              title=\"Convert this dataframe to an interactive table.\"\n",
              "              style=\"display:none;\">\n",
              "        \n",
              "  <svg xmlns=\"http://www.w3.org/2000/svg\" height=\"24px\"viewBox=\"0 0 24 24\"\n",
              "       width=\"24px\">\n",
              "    <path d=\"M0 0h24v24H0V0z\" fill=\"none\"/>\n",
              "    <path d=\"M18.56 5.44l.94 2.06.94-2.06 2.06-.94-2.06-.94-.94-2.06-.94 2.06-2.06.94zm-11 1L8.5 8.5l.94-2.06 2.06-.94-2.06-.94L8.5 2.5l-.94 2.06-2.06.94zm10 10l.94 2.06.94-2.06 2.06-.94-2.06-.94-.94-2.06-.94 2.06-2.06.94z\"/><path d=\"M17.41 7.96l-1.37-1.37c-.4-.4-.92-.59-1.43-.59-.52 0-1.04.2-1.43.59L10.3 9.45l-7.72 7.72c-.78.78-.78 2.05 0 2.83L4 21.41c.39.39.9.59 1.41.59.51 0 1.02-.2 1.41-.59l7.78-7.78 2.81-2.81c.8-.78.8-2.07 0-2.86zM5.41 20L4 18.59l7.72-7.72 1.47 1.35L5.41 20z\"/>\n",
              "  </svg>\n",
              "      </button>\n",
              "      \n",
              "  <style>\n",
              "    .colab-df-container {\n",
              "      display:flex;\n",
              "      flex-wrap:wrap;\n",
              "      gap: 12px;\n",
              "    }\n",
              "\n",
              "    .colab-df-convert {\n",
              "      background-color: #E8F0FE;\n",
              "      border: none;\n",
              "      border-radius: 50%;\n",
              "      cursor: pointer;\n",
              "      display: none;\n",
              "      fill: #1967D2;\n",
              "      height: 32px;\n",
              "      padding: 0 0 0 0;\n",
              "      width: 32px;\n",
              "    }\n",
              "\n",
              "    .colab-df-convert:hover {\n",
              "      background-color: #E2EBFA;\n",
              "      box-shadow: 0px 1px 2px rgba(60, 64, 67, 0.3), 0px 1px 3px 1px rgba(60, 64, 67, 0.15);\n",
              "      fill: #174EA6;\n",
              "    }\n",
              "\n",
              "    [theme=dark] .colab-df-convert {\n",
              "      background-color: #3B4455;\n",
              "      fill: #D2E3FC;\n",
              "    }\n",
              "\n",
              "    [theme=dark] .colab-df-convert:hover {\n",
              "      background-color: #434B5C;\n",
              "      box-shadow: 0px 1px 3px 1px rgba(0, 0, 0, 0.15);\n",
              "      filter: drop-shadow(0px 1px 2px rgba(0, 0, 0, 0.3));\n",
              "      fill: #FFFFFF;\n",
              "    }\n",
              "  </style>\n",
              "\n",
              "      <script>\n",
              "        const buttonEl =\n",
              "          document.querySelector('#df-52fcf918-404d-46eb-9a0e-6842ce151856 button.colab-df-convert');\n",
              "        buttonEl.style.display =\n",
              "          google.colab.kernel.accessAllowed ? 'block' : 'none';\n",
              "\n",
              "        async function convertToInteractive(key) {\n",
              "          const element = document.querySelector('#df-52fcf918-404d-46eb-9a0e-6842ce151856');\n",
              "          const dataTable =\n",
              "            await google.colab.kernel.invokeFunction('convertToInteractive',\n",
              "                                                     [key], {});\n",
              "          if (!dataTable) return;\n",
              "\n",
              "          const docLinkHtml = 'Like what you see? Visit the ' +\n",
              "            '<a target=\"_blank\" href=https://colab.research.google.com/notebooks/data_table.ipynb>data table notebook</a>'\n",
              "            + ' to learn more about interactive tables.';\n",
              "          element.innerHTML = '';\n",
              "          dataTable['output_type'] = 'display_data';\n",
              "          await google.colab.output.renderOutput(dataTable, element);\n",
              "          const docLink = document.createElement('div');\n",
              "          docLink.innerHTML = docLinkHtml;\n",
              "          element.appendChild(docLink);\n",
              "        }\n",
              "      </script>\n",
              "    </div>\n",
              "  </div>\n",
              "  "
            ]
          },
          "metadata": {},
          "execution_count": 13
        }
      ]
    },
    {
      "cell_type": "code",
      "source": [
        "df['Region'].value_counts()"
      ],
      "metadata": {
        "id": "9DIQoiGW3id3",
        "outputId": "3c1ed310-6234-4400-959d-a97068eb10ac",
        "colab": {
          "base_uri": "https://localhost:8080/"
        }
      },
      "execution_count": 14,
      "outputs": [
        {
          "output_type": "execute_result",
          "data": {
            "text/plain": [
              "Middle East & North Africa     50474\n",
              "South Asia                     44974\n",
              "South America                  18978\n",
              "Sub-Saharan Africa             17550\n",
              "Western Europe                 16639\n",
              "Southeast Asia                 12485\n",
              "Central America & Caribbean    10344\n",
              "Eastern Europe                  5144\n",
              "North America                   3456\n",
              "East Asia                        802\n",
              "Central Asia                     563\n",
              "Australasia & Oceania            282\n",
              "Name: Region, dtype: int64"
            ]
          },
          "metadata": {},
          "execution_count": 14
        }
      ]
    },
    {
      "cell_type": "code",
      "source": [
        "import seaborn as sns\n",
        "plt.figure(figsize=(10,8))\n",
        "sns.barplot(list(df['Region'].value_counts().head(10).keys()),df['Region'].value_counts().head(10),palette='tab10')\n",
        "plt.title('AFFECTED REGIONS ')\n",
        "plt.xticks(rotation=80)"
      ],
      "metadata": {
        "id": "6qKN_H_24d1N",
        "outputId": "13f4c201-9c08-4943-8d6b-4f63081bf758",
        "colab": {
          "base_uri": "https://localhost:8080/",
          "height": 669
        }
      },
      "execution_count": 15,
      "outputs": [
        {
          "output_type": "execute_result",
          "data": {
            "text/plain": [
              "(array([0, 1, 2, 3, 4, 5, 6, 7, 8, 9]),\n",
              " <a list of 10 Text major ticklabel objects>)"
            ]
          },
          "metadata": {},
          "execution_count": 15
        },
        {
          "output_type": "display_data",
          "data": {
            "text/plain": [
              "<Figure size 720x576 with 1 Axes>"
            ],
            "image/png": "[encoded data removed]"
          },
          "metadata": {
            "needs_background": "light"
          }
        }
      ]
    },
    {
      "cell_type": "code",
      "source": [
        "pd.crosstab(df.Year,df.Region).plot(kind='line',figsize=(20,8))\n",
        "plt.title('Terrorist activity in this region in each year')\n",
        "plt.xlabel('Region')\n",
        "plt.ylabel('Number of Attacks')\n",
        "plt.xticks([1965,1970,1975,1980,1985,1990,1995,2000,2005,2010,2015,2016])\n",
        "plt.grid()\n",
        "plt.show()"
      ],
      "metadata": {
        "id": "-ae-tqvj52Fq",
        "outputId": "a6a8c507-2aad-4b82-f23f-bec018a3adec",
        "colab": {
          "base_uri": "https://localhost:8080/",
          "height": 513
        }
      },
      "execution_count": 16,
      "outputs": [
        {
          "output_type": "display_data",
          "data": {
            "text/plain": [
              "<Figure size 1440x576 with 1 Axes>"
            ],
            "image/png": "[encoded data removed]"
          },
          "metadata": {
            "needs_background": "light"
          }
        }
      ]
    },
    {
      "cell_type": "code",
      "source": [
        "df['Country'].value_counts().head(10)"
      ],
      "metadata": {
        "id": "IGtKyGAJ53dJ",
        "outputId": "2d1ae305-2cc7-483f-d382-35e5167c9d73",
        "colab": {
          "base_uri": "https://localhost:8080/"
        }
      },
      "execution_count": 17,
      "outputs": [
        {
          "output_type": "execute_result",
          "data": {
            "text/plain": [
              "Iraq              24636\n",
              "Pakistan          14368\n",
              "Afghanistan       12731\n",
              "India             11960\n",
              "Colombia           8306\n",
              "Philippines        6908\n",
              "Peru               6096\n",
              "El Salvador        5320\n",
              "United Kingdom     5235\n",
              "Turkey             4292\n",
              "Name: Country, dtype: int64"
            ]
          },
          "metadata": {},
          "execution_count": 17
        }
      ]
    },
    {
      "cell_type": "code",
      "source": [
        "plt.figure(figsize=(10,8))\n",
        "sns.barplot(list(df['Country'].value_counts().head(10).keys()),df['Country'].value_counts().head(10),palette='tab10')\n",
        "plt.title('AFFECTED REGIONS ')\n",
        "plt.xticks(rotation=80)"
      ],
      "metadata": {
        "id": "RvK4ItZw6F8Z",
        "outputId": "48a8c84e-c01b-415e-f28d-1b3a9a9874ec",
        "colab": {
          "base_uri": "https://localhost:8080/",
          "height": 605
        }
      },
      "execution_count": 18,
      "outputs": [
        {
          "output_type": "execute_result",
          "data": {
            "text/plain": [
              "(array([0, 1, 2, 3, 4, 5, 6, 7, 8, 9]),\n",
              " <a list of 10 Text major ticklabel objects>)"
            ]
          },
          "metadata": {},
          "execution_count": 18
        },
        {
          "output_type": "display_data",
          "data": {
            "text/plain": [
              "<Figure size 720x576 with 1 Axes>"
            ],
            "image/png": "[encoded data removed]"
          },
          "metadata": {
            "needs_background": "light"
          }
        }
      ]
    },
    {
      "cell_type": "code",
      "source": [
        "newdf['Damage']=newdf['Nkill']+newdf['Nwound']"
      ],
      "metadata": {
        "id": "k_F6NBwN7c4j"
      },
      "execution_count": 21,
      "outputs": []
    },
    {
      "cell_type": "code",
      "source": [
        "newdf['Damage']"
      ],
      "metadata": {
        "id": "FDtKV_wL5Al-",
        "outputId": "22a8e47a-75c9-4d22-9dd8-16b24073e059",
        "colab": {
          "base_uri": "https://localhost:8080/"
        }
      },
      "execution_count": 22,
      "outputs": [
        {
          "output_type": "execute_result",
          "data": {
            "text/plain": [
              "0         1.0\n",
              "1         0.0\n",
              "2         1.0\n",
              "3         NaN\n",
              "4         NaN\n",
              "         ... \n",
              "181686    3.0\n",
              "181687    9.0\n",
              "181688    0.0\n",
              "181689    0.0\n",
              "181690    0.0\n",
              "Name: Damage, Length: 181691, dtype: float64"
            ]
          },
          "metadata": {},
          "execution_count": 22
        }
      ]
    },
    {
      "cell_type": "code",
      "source": [
        "newdf['Country']=newdf['Country'].replace('South Veitnam','Veitnam',regex=True)"
      ],
      "metadata": {
        "id": "4MHdgGsR6ETe"
      },
      "execution_count": 23,
      "outputs": []
    },
    {
      "cell_type": "code",
      "source": [
        "newdf['Weaptype']=newdf['Weaptype'].replace('Vehicle .*','Vehicle',regex=True)"
      ],
      "metadata": {
        "id": "dLSWizLw6V1R"
      },
      "execution_count": 24,
      "outputs": []
    },
    {
      "cell_type": "code",
      "source": [
        "newdf['Attacktype']=newdf['Attacktype'].replace('Hostage Taking .*','Hostage Taking',regex=True)"
      ],
      "metadata": {
        "id": "FKGYB9Wx6o9R"
      },
      "execution_count": 25,
      "outputs": []
    },
    {
      "cell_type": "code",
      "source": [
        "atk_filtered=newdf['Attacktype'].apply(lambda x:x if x in ['Bombing/Explosion','Armed Assault','Assassination',\n",
        "                                                          'Hostage Taking','Facility/Infrastructure Attack'] else 'Other')"
      ],
      "metadata": {
        "id": "kN_a8n9O6zNQ"
      },
      "execution_count": 27,
      "outputs": []
    },
    {
      "cell_type": "code",
      "source": [
        "attack_type=atk_filtered.value_counts().tolist()"
      ],
      "metadata": {
        "id": "LtZQxmBD7JYO"
      },
      "execution_count": 28,
      "outputs": []
    },
    {
      "cell_type": "code",
      "source": [
        "attack_type"
      ],
      "metadata": {
        "id": "4fP4m_I77QkC",
        "outputId": "f2a6f951-63c9-45db-b452-ba48e261f150",
        "colab": {
          "base_uri": "https://localhost:8080/"
        }
      },
      "execution_count": 29,
      "outputs": [
        {
          "output_type": "execute_result",
          "data": {
            "text/plain": [
              "[88255, 42669, 19312, 12149, 10356, 8950]"
            ]
          },
          "metadata": {},
          "execution_count": 29
        }
      ]
    },
    {
      "cell_type": "code",
      "source": [
        "labels=['Bombing/Explosion','Armed Assault','Assassination','Hostage Taking','Facility/Infrastructure Attack','Others']"
      ],
      "metadata": {
        "id": "ROE_EEyZ7QnE"
      },
      "execution_count": 30,
      "outputs": []
    },
    {
      "cell_type": "code",
      "source": [
        "sizes=[]"
      ],
      "metadata": {
        "id": "OR2jshUL7aui"
      },
      "execution_count": 31,
      "outputs": []
    },
    {
      "cell_type": "code",
      "source": [
        "for i in attack_type:\n",
        "    percent=(i*100)/len(newdf['Attacktype'])\n",
        "    sizes.append(percent)"
      ],
      "metadata": {
        "id": "JA7EY9HO7gtm"
      },
      "execution_count": 33,
      "outputs": []
    },
    {
      "cell_type": "code",
      "source": [
        "fig,ax=plt.subplots(figsize=(10,10))\n",
        "patches,texts,autotexts=ax.pie(sizes,labels=labels,autopct='%1.1f%%',startangle=-20,\n",
        "                              shadow=True,explode=(0.05,0,0,0,0,0),\n",
        "                              colors=sns.color_palette('Set2',8)[:5]+\n",
        "                              [(0.58,0.64,0.65)],\n",
        "                              textprops={'fontsize':15,'weight':'light','color':'k'})\n",
        "ax.axis('equal')\n",
        "plt.title('Terrorist attack types',fontsize=25,pad=-70,\n",
        "         color=sns.cubehelix_palette(8,start=.5,rot=-.75)[-3])\n",
        "plt.tight_layout()\n",
        "ax.legend(loc='lower right',framealpha=0.5,bbox_to_anchor=(1.8,0.5,0.1,1),\n",
        "         prop={'size':14})\n",
        "fig.show()"
      ],
      "metadata": {
        "id": "gqu3SNcP7io6",
        "outputId": "53037ae3-133f-4e18-efd4-a607a74fc474",
        "colab": {
          "base_uri": "https://localhost:8080/",
          "height": 722
        }
      },
      "execution_count": 34,
      "outputs": [
        {
          "output_type": "display_data",
          "data": {
            "text/plain": [
              "<Figure size 720x720 with 1 Axes>"
            ],
            "image/png": "[encoded data removed]"
          },
          "metadata": {}
        }
      ]
    },
    {
      "cell_type": "code",
      "source": [
        "cat=['Bombing/Explosion','Armed Assault','Assassination','Hostage Taking','Facility/Infrastructure Attack']"
      ],
      "metadata": {
        "id": "-novL1GJ7iqs"
      },
      "execution_count": 35,
      "outputs": []
    },
    {
      "cell_type": "code",
      "source": [
        "color_cat=sns.color_palette('Set2',8)[:5]"
      ],
      "metadata": {
        "id": "zhYleQdg7itr"
      },
      "execution_count": 36,
      "outputs": []
    },
    {
      "cell_type": "code",
      "source": [
        "color_cat_dict=dict(zip(cat,color_cat))"
      ],
      "metadata": {
        "id": "G7cggLGJ7iw8"
      },
      "execution_count": 37,
      "outputs": []
    },
    {
      "cell_type": "code",
      "source": [
        "table1=newdf[['Attacktype','Damage']].groupby('Attacktype',as_index=False).sum().sort_values(by='Damage',ascending=False)"
      ],
      "metadata": {
        "id": "JWVt0k7Q7izn"
      },
      "execution_count": 39,
      "outputs": []
    },
    {
      "cell_type": "code",
      "source": [
        "table1=table1.reset_index()"
      ],
      "metadata": {
        "id": "aZORK0PB7i2Q"
      },
      "execution_count": 40,
      "outputs": []
    },
    {
      "cell_type": "code",
      "source": [
        "inci=[8825,42669,7276,19312,12149,659,1015,10356]"
      ],
      "metadata": {
        "id": "JlQRMW2L7i7I"
      },
      "execution_count": 41,
      "outputs": []
    },
    {
      "cell_type": "code",
      "source": [
        "table1['Incidents']=np.array(inci)"
      ],
      "metadata": {
        "id": "NPHI4v4y7jA6"
      },
      "execution_count": 42,
      "outputs": []
    },
    {
      "cell_type": "code",
      "source": [
        "table1['Damage rate']=table1['Damage']/table1['Incidents']"
      ],
      "metadata": {
        "id": "kv0vxikr7jEA"
      },
      "execution_count": 43,
      "outputs": []
    },
    {
      "cell_type": "code",
      "source": [
        "table1"
      ],
      "metadata": {
        "id": "OW5cU7lI9ffC",
        "outputId": "8d01e71e-fbc6-44bc-e7b1-840bd178ee95",
        "colab": {
          "base_uri": "https://localhost:8080/",
          "height": 300
        }
      },
      "execution_count": 44,
      "outputs": [
        {
          "output_type": "execute_result",
          "data": {
            "text/plain": [
              "   index                      Attacktype    Damage  Incidents  Damage rate\n",
              "0      2               Bombing/Explosion  514233.0       8825    58.270028\n",
              "1      0                   Armed Assault  212386.0      42669     4.977525\n",
              "2      7                         Unknown   39606.0       7276     5.443375\n",
              "3      1                   Assassination   37209.0      19312     1.926729\n",
              "4      5                  Hostage Taking   27732.0      12149     2.282657\n",
              "5      4                       Hijacking   20642.0        659    31.323217\n",
              "6      6                 Unarmed Assault   14791.0       1015    14.572414\n",
              "7      3  Facility/Infrastructure Attack    6293.0      10356     0.607667"
            ],
            "text/html": [
              "\n",
              "  <div id=\"df-58e1d02d-2411-4333-bea8-49df27b62a77\">\n",
              "    <div class=\"colab-df-container\">\n",
              "      <div>\n",
              "<style scoped>\n",
              "    .dataframe tbody tr th:only-of-type {\n",
              "        vertical-align: middle;\n",
              "    }\n",
              "\n",
              "    .dataframe tbody tr th {\n",
              "        vertical-align: top;\n",
              "    }\n",
              "\n",
              "    .dataframe thead th {\n",
              "        text-align: right;\n",
              "    }\n",
              "</style>\n",
              "<table border=\"1\" class=\"dataframe\">\n",
              "  <thead>\n",
              "    <tr style=\"text-align: right;\">\n",
              "      <th></th>\n",
              "      <th>index</th>\n",
              "      <th>Attacktype</th>\n",
              "      <th>Damage</th>\n",
              "      <th>Incidents</th>\n",
              "      <th>Damage rate</th>\n",
              "    </tr>\n",
              "  </thead>\n",
              "  <tbody>\n",
              "    <tr>\n",
              "      <th>0</th>\n",
              "      <td>2</td>\n",
              "      <td>Bombing/Explosion</td>\n",
              "      <td>514233.0</td>\n",
              "      <td>8825</td>\n",
              "      <td>58.270028</td>\n",
              "    </tr>\n",
              "    <tr>\n",
              "      <th>1</th>\n",
              "      <td>0</td>\n",
              "      <td>Armed Assault</td>\n",
              "      <td>212386.0</td>\n",
              "      <td>42669</td>\n",
              "      <td>4.977525</td>\n",
              "    </tr>\n",
              "    <tr>\n",
              "      <th>2</th>\n",
              "      <td>7</td>\n",
              "      <td>Unknown</td>\n",
              "      <td>39606.0</td>\n",
              "      <td>7276</td>\n",
              "      <td>5.443375</td>\n",
              "    </tr>\n",
              "    <tr>\n",
              "      <th>3</th>\n",
              "      <td>1</td>\n",
              "      <td>Assassination</td>\n",
              "      <td>37209.0</td>\n",
              "      <td>19312</td>\n",
              "      <td>1.926729</td>\n",
              "    </tr>\n",
              "    <tr>\n",
              "      <th>4</th>\n",
              "      <td>5</td>\n",
              "      <td>Hostage Taking</td>\n",
              "      <td>27732.0</td>\n",
              "      <td>12149</td>\n",
              "      <td>2.282657</td>\n",
              "    </tr>\n",
              "    <tr>\n",
              "      <th>5</th>\n",
              "      <td>4</td>\n",
              "      <td>Hijacking</td>\n",
              "      <td>20642.0</td>\n",
              "      <td>659</td>\n",
              "      <td>31.323217</td>\n",
              "    </tr>\n",
              "    <tr>\n",
              "      <th>6</th>\n",
              "      <td>6</td>\n",
              "      <td>Unarmed Assault</td>\n",
              "      <td>14791.0</td>\n",
              "      <td>1015</td>\n",
              "      <td>14.572414</td>\n",
              "    </tr>\n",
              "    <tr>\n",
              "      <th>7</th>\n",
              "      <td>3</td>\n",
              "      <td>Facility/Infrastructure Attack</td>\n",
              "      <td>6293.0</td>\n",
              "      <td>10356</td>\n",
              "      <td>0.607667</td>\n",
              "    </tr>\n",
              "  </tbody>\n",
              "</table>\n",
              "</div>\n",
              "      <button class=\"colab-df-convert\" onclick=\"convertToInteractive('df-58e1d02d-2411-4333-bea8-49df27b62a77')\"\n",
              "              title=\"Convert this dataframe to an interactive table.\"\n",
              "              style=\"display:none;\">\n",
              "        \n",
              "  <svg xmlns=\"http://www.w3.org/2000/svg\" height=\"24px\"viewBox=\"0 0 24 24\"\n",
              "       width=\"24px\">\n",
              "    <path d=\"M0 0h24v24H0V0z\" fill=\"none\"/>\n",
              "    <path d=\"M18.56 5.44l.94 2.06.94-2.06 2.06-.94-2.06-.94-.94-2.06-.94 2.06-2.06.94zm-11 1L8.5 8.5l.94-2.06 2.06-.94-2.06-.94L8.5 2.5l-.94 2.06-2.06.94zm10 10l.94 2.06.94-2.06 2.06-.94-2.06-.94-.94-2.06-.94 2.06-2.06.94z\"/><path d=\"M17.41 7.96l-1.37-1.37c-.4-.4-.92-.59-1.43-.59-.52 0-1.04.2-1.43.59L10.3 9.45l-7.72 7.72c-.78.78-.78 2.05 0 2.83L4 21.41c.39.39.9.59 1.41.59.51 0 1.02-.2 1.41-.59l7.78-7.78 2.81-2.81c.8-.78.8-2.07 0-2.86zM5.41 20L4 18.59l7.72-7.72 1.47 1.35L5.41 20z\"/>\n",
              "  </svg>\n",
              "      </button>\n",
              "      \n",
              "  <style>\n",
              "    .colab-df-container {\n",
              "      display:flex;\n",
              "      flex-wrap:wrap;\n",
              "      gap: 12px;\n",
              "    }\n",
              "\n",
              "    .colab-df-convert {\n",
              "      background-color: #E8F0FE;\n",
              "      border: none;\n",
              "      border-radius: 50%;\n",
              "      cursor: pointer;\n",
              "      display: none;\n",
              "      fill: #1967D2;\n",
              "      height: 32px;\n",
              "      padding: 0 0 0 0;\n",
              "      width: 32px;\n",
              "    }\n",
              "\n",
              "    .colab-df-convert:hover {\n",
              "      background-color: #E2EBFA;\n",
              "      box-shadow: 0px 1px 2px rgba(60, 64, 67, 0.3), 0px 1px 3px 1px rgba(60, 64, 67, 0.15);\n",
              "      fill: #174EA6;\n",
              "    }\n",
              "\n",
              "    [theme=dark] .colab-df-convert {\n",
              "      background-color: #3B4455;\n",
              "      fill: #D2E3FC;\n",
              "    }\n",
              "\n",
              "    [theme=dark] .colab-df-convert:hover {\n",
              "      background-color: #434B5C;\n",
              "      box-shadow: 0px 1px 3px 1px rgba(0, 0, 0, 0.15);\n",
              "      filter: drop-shadow(0px 1px 2px rgba(0, 0, 0, 0.3));\n",
              "      fill: #FFFFFF;\n",
              "    }\n",
              "  </style>\n",
              "\n",
              "      <script>\n",
              "        const buttonEl =\n",
              "          document.querySelector('#df-58e1d02d-2411-4333-bea8-49df27b62a77 button.colab-df-convert');\n",
              "        buttonEl.style.display =\n",
              "          google.colab.kernel.accessAllowed ? 'block' : 'none';\n",
              "\n",
              "        async function convertToInteractive(key) {\n",
              "          const element = document.querySelector('#df-58e1d02d-2411-4333-bea8-49df27b62a77');\n",
              "          const dataTable =\n",
              "            await google.colab.kernel.invokeFunction('convertToInteractive',\n",
              "                                                     [key], {});\n",
              "          if (!dataTable) return;\n",
              "\n",
              "          const docLinkHtml = 'Like what you see? Visit the ' +\n",
              "            '<a target=\"_blank\" href=https://colab.research.google.com/notebooks/data_table.ipynb>data table notebook</a>'\n",
              "            + ' to learn more about interactive tables.';\n",
              "          element.innerHTML = '';\n",
              "          dataTable['output_type'] = 'display_data';\n",
              "          await google.colab.output.renderOutput(dataTable, element);\n",
              "          const docLink = document.createElement('div');\n",
              "          docLink.innerHTML = docLinkHtml;\n",
              "          element.appendChild(docLink);\n",
              "        }\n",
              "      </script>\n",
              "    </div>\n",
              "  </div>\n",
              "  "
            ]
          },
          "metadata": {},
          "execution_count": 44
        }
      ]
    },
    {
      "cell_type": "code",
      "source": [
        "labels=table1['Attacktype'].tolist()\n",
        "labels"
      ],
      "metadata": {
        "id": "-OU4Uz9M9flN",
        "outputId": "24e44d80-2b13-455e-aead-0ad076e9f0b0",
        "colab": {
          "base_uri": "https://localhost:8080/"
        }
      },
      "execution_count": 45,
      "outputs": [
        {
          "output_type": "execute_result",
          "data": {
            "text/plain": [
              "['Bombing/Explosion',\n",
              " 'Armed Assault',\n",
              " 'Unknown',\n",
              " 'Assassination',\n",
              " 'Hostage Taking',\n",
              " 'Hijacking',\n",
              " 'Unarmed Assault',\n",
              " 'Facility/Infrastructure Attack']"
            ]
          },
          "metadata": {},
          "execution_count": 45
        }
      ]
    },
    {
      "cell_type": "code",
      "source": [
        "x=np.arange(len(labels))"
      ],
      "metadata": {
        "id": "6GiGPIKd9fpu"
      },
      "execution_count": 46,
      "outputs": []
    },
    {
      "cell_type": "code",
      "source": [
        "dmg=table1['Damage'].tolist()"
      ],
      "metadata": {
        "id": "yMR_NDg89fr8"
      },
      "execution_count": 47,
      "outputs": []
    },
    {
      "cell_type": "code",
      "source": [
        "dmg"
      ],
      "metadata": {
        "id": "l3596NWr9fuz",
        "outputId": "c51cff10-5fb0-4e82-d81e-6c4c9e0cbe90",
        "colab": {
          "base_uri": "https://localhost:8080/"
        }
      },
      "execution_count": 48,
      "outputs": [
        {
          "output_type": "execute_result",
          "data": {
            "text/plain": [
              "[514233.0, 212386.0, 39606.0, 37209.0, 27732.0, 20642.0, 14791.0, 6293.0]"
            ]
          },
          "metadata": {},
          "execution_count": 48
        }
      ]
    },
    {
      "cell_type": "code",
      "source": [
        "gray=(0.5,0.64,0.65)"
      ],
      "metadata": {
        "id": "OFfJ8DzQ-CHz"
      },
      "execution_count": 49,
      "outputs": []
    },
    {
      "cell_type": "code",
      "source": [
        "color_list=[color_cat_dict[ter_type] if\n",
        "            ter_type in color_cat_dict.keys() else gray for ter_type in labels]"
      ],
      "metadata": {
        "id": "ogT49mtd-CWE"
      },
      "execution_count": 50,
      "outputs": []
    },
    {
      "cell_type": "code",
      "source": [
        "color_list"
      ],
      "metadata": {
        "id": "uNCupXzP-CiD",
        "outputId": "1a4c1189-3746-4df6-8849-7ca31d77b16d",
        "colab": {
          "base_uri": "https://localhost:8080/"
        }
      },
      "execution_count": 51,
      "outputs": [
        {
          "output_type": "execute_result",
          "data": {
            "text/plain": [
              "[(0.4, 0.7607843137254902, 0.6470588235294118),\n",
              " (0.9882352941176471, 0.5529411764705883, 0.3843137254901961),\n",
              " (0.5, 0.64, 0.65),\n",
              " (0.5529411764705883, 0.6274509803921569, 0.796078431372549),\n",
              " (0.9058823529411765, 0.5411764705882353, 0.7647058823529411),\n",
              " (0.5, 0.64, 0.65),\n",
              " (0.5, 0.64, 0.65),\n",
              " (0.6509803921568628, 0.8470588235294118, 0.32941176470588235)]"
            ]
          },
          "metadata": {},
          "execution_count": 51
        }
      ]
    },
    {
      "cell_type": "code",
      "source": [
        "d_rate=table1['Damage rate'].tolist()"
      ],
      "metadata": {
        "id": "b-WmF7ip-C5J"
      },
      "execution_count": 52,
      "outputs": []
    },
    {
      "cell_type": "code",
      "source": [
        "fig,ax1=plt.subplots(figsize=(15,8))\n",
        "# Bar chart\n",
        "ax1.bar(labels,dmg,color=color_list,align='center')\n",
        "#Number in bar chart\n",
        "for i,v in enumerate(dmg):\n",
        "    ax1.text(i-0.3,v-13000 if v==37209 else v+3000, str(round(v)),color='w' if v==37209 else 'k',fontweight='bold')\n",
        "#insert a second plot -line plot\n",
        "ax2=ax1.twinx()\n",
        "ax2.plot(labels,d_rate,linestyle='--',linewidth=4,marker='o',markerfacecolor='black',markersize='10',\n",
        "        label='Mean of Dead/Injured People',color='#C44D51')\n",
        "plt.title('Terrorist Attack Types and Damage',fontsize=25,pad=20, color=sns.cubehelix_palette(8,start=.5,rot=-.75)[-3])\n",
        "ax1.set(xlabel='Types of Terrorist Attacks',ylabel='Number of Dead/Injured People')\n",
        "ax1.set_xticklabels(labels,rotation=45)\n",
        "plt.yticks(fontsize=10)\n",
        "ax2.legend(loc='upper center')\n",
        "fig.show()"
      ],
      "metadata": {
        "id": "D5vLjXIz-DIa",
        "outputId": "96d7caea-ad89-436f-f490-6b0b18913812",
        "colab": {
          "base_uri": "https://localhost:8080/",
          "height": 633
        }
      },
      "execution_count": 53,
      "outputs": [
        {
          "output_type": "display_data",
          "data": {
            "text/plain": [
              "<Figure size 1080x576 with 2 Axes>"
            ],
            "image/png": "[encoded data removed]"
          },
          "metadata": {
            "needs_background": "light"
          }
        }
      ]
    },
    {
      "cell_type": "code",
      "source": [
        "table2=newdf[['Weaptype','Damage']].groupby('Weaptype',as_index=False).sum().sort_values(by='Damage',ascending=False)"
      ],
      "metadata": {
        "id": "vzYMvlWrDKoV"
      },
      "execution_count": 55,
      "outputs": []
    },
    {
      "cell_type": "code",
      "source": [
        "df_count=newdf['Weaptype'].value_counts()"
      ],
      "metadata": {
        "id": "NBFmHngwDKuZ"
      },
      "execution_count": 56,
      "outputs": []
    },
    {
      "cell_type": "code",
      "source": [
        "df_count=df_count.reindex(table2['Weaptype'].values)"
      ],
      "metadata": {
        "id": "uibk9huFDKv7"
      },
      "execution_count": 57,
      "outputs": []
    },
    {
      "cell_type": "code",
      "source": [
        "df_count"
      ],
      "metadata": {
        "id": "a7kPyyJxDKzP",
        "outputId": "7c50bfe4-5608-44e0-ac8c-42f651c1d6d2",
        "colab": {
          "base_uri": "https://localhost:8080/"
        }
      },
      "execution_count": 58,
      "outputs": [
        {
          "output_type": "execute_result",
          "data": {
            "text/plain": [
              "Explosives            92426\n",
              "Firearms              58524\n",
              "Unknown               15157\n",
              "Vehicle                 136\n",
              "Melee                  3655\n",
              "Chemical                321\n",
              "Incendiary            11135\n",
              "Biological               35\n",
              "Sabotage Equipment      141\n",
              "Other                   114\n",
              "Radiological             14\n",
              "Fake Weapons             33\n",
              "Name: Weaptype, dtype: int64"
            ]
          },
          "metadata": {},
          "execution_count": 58
        }
      ]
    },
    {
      "cell_type": "code",
      "source": [
        "table2['WeapCount']=df_count.values"
      ],
      "metadata": {
        "id": "erj8BH0TDK2t"
      },
      "execution_count": 59,
      "outputs": []
    },
    {
      "cell_type": "code",
      "source": [
        "table2['WeapCount']"
      ],
      "metadata": {
        "id": "63Ls_Uz8DK5R",
        "outputId": "5a1edc05-6f71-43a1-c696-f641c752da74",
        "colab": {
          "base_uri": "https://localhost:8080/"
        }
      },
      "execution_count": 60,
      "outputs": [
        {
          "output_type": "execute_result",
          "data": {
            "text/plain": [
              "2     92426\n",
              "4     58524\n",
              "10    15157\n",
              "11      136\n",
              "6      3655\n",
              "1       321\n",
              "5     11135\n",
              "0        35\n",
              "9       141\n",
              "7       114\n",
              "8        14\n",
              "3        33\n",
              "Name: WeapCount, dtype: int64"
            ]
          },
          "metadata": {},
          "execution_count": 60
        }
      ]
    },
    {
      "cell_type": "code",
      "source": [
        "table2['Weap_damage_rate']=table2['Damage']/table2['WeapCount']"
      ],
      "metadata": {
        "id": "y-wYF8QNDK8T"
      },
      "execution_count": 61,
      "outputs": []
    },
    {
      "cell_type": "code",
      "source": [
        "table2"
      ],
      "metadata": {
        "id": "l6GIBY26DK_K",
        "outputId": "69e98ea1-1f1f-4d22-d9c2-3d9d5262e274",
        "colab": {
          "base_uri": "https://localhost:8080/",
          "height": 426
        }
      },
      "execution_count": 62,
      "outputs": [
        {
          "output_type": "execute_result",
          "data": {
            "text/plain": [
              "              Weaptype    Damage  WeapCount  Weap_damage_rate\n",
              "2           Explosives  537788.0      92426          5.818579\n",
              "4             Firearms  225473.0      58524          3.852659\n",
              "10             Unknown   50167.0      15157          3.309824\n",
              "11             Vehicle   20297.0        136        149.242647\n",
              "6                Melee   14489.0       3655          3.964159\n",
              "1             Chemical   14377.0        321         44.788162\n",
              "5           Incendiary    8898.0      11135          0.799102\n",
              "0           Biological     814.0         35         23.257143\n",
              "9   Sabotage Equipment     357.0        141          2.531915\n",
              "7                Other     225.0        114          1.973684\n",
              "8         Radiological       6.0         14          0.428571\n",
              "3         Fake Weapons       1.0         33          0.030303"
            ],
            "text/html": [
              "\n",
              "  <div id=\"df-4cc9d5e6-6281-43a3-b791-28e319d797e4\">\n",
              "    <div class=\"colab-df-container\">\n",
              "      <div>\n",
              "<style scoped>\n",
              "    .dataframe tbody tr th:only-of-type {\n",
              "        vertical-align: middle;\n",
              "    }\n",
              "\n",
              "    .dataframe tbody tr th {\n",
              "        vertical-align: top;\n",
              "    }\n",
              "\n",
              "    .dataframe thead th {\n",
              "        text-align: right;\n",
              "    }\n",
              "</style>\n",
              "<table border=\"1\" class=\"dataframe\">\n",
              "  <thead>\n",
              "    <tr style=\"text-align: right;\">\n",
              "      <th></th>\n",
              "      <th>Weaptype</th>\n",
              "      <th>Damage</th>\n",
              "      <th>WeapCount</th>\n",
              "      <th>Weap_damage_rate</th>\n",
              "    </tr>\n",
              "  </thead>\n",
              "  <tbody>\n",
              "    <tr>\n",
              "      <th>2</th>\n",
              "      <td>Explosives</td>\n",
              "      <td>537788.0</td>\n",
              "      <td>92426</td>\n",
              "      <td>5.818579</td>\n",
              "    </tr>\n",
              "    <tr>\n",
              "      <th>4</th>\n",
              "      <td>Firearms</td>\n",
              "      <td>225473.0</td>\n",
              "      <td>58524</td>\n",
              "      <td>3.852659</td>\n",
              "    </tr>\n",
              "    <tr>\n",
              "      <th>10</th>\n",
              "      <td>Unknown</td>\n",
              "      <td>50167.0</td>\n",
              "      <td>15157</td>\n",
              "      <td>3.309824</td>\n",
              "    </tr>\n",
              "    <tr>\n",
              "      <th>11</th>\n",
              "      <td>Vehicle</td>\n",
              "      <td>20297.0</td>\n",
              "      <td>136</td>\n",
              "      <td>149.242647</td>\n",
              "    </tr>\n",
              "    <tr>\n",
              "      <th>6</th>\n",
              "      <td>Melee</td>\n",
              "      <td>14489.0</td>\n",
              "      <td>3655</td>\n",
              "      <td>3.964159</td>\n",
              "    </tr>\n",
              "    <tr>\n",
              "      <th>1</th>\n",
              "      <td>Chemical</td>\n",
              "      <td>14377.0</td>\n",
              "      <td>321</td>\n",
              "      <td>44.788162</td>\n",
              "    </tr>\n",
              "    <tr>\n",
              "      <th>5</th>\n",
              "      <td>Incendiary</td>\n",
              "      <td>8898.0</td>\n",
              "      <td>11135</td>\n",
              "      <td>0.799102</td>\n",
              "    </tr>\n",
              "    <tr>\n",
              "      <th>0</th>\n",
              "      <td>Biological</td>\n",
              "      <td>814.0</td>\n",
              "      <td>35</td>\n",
              "      <td>23.257143</td>\n",
              "    </tr>\n",
              "    <tr>\n",
              "      <th>9</th>\n",
              "      <td>Sabotage Equipment</td>\n",
              "      <td>357.0</td>\n",
              "      <td>141</td>\n",
              "      <td>2.531915</td>\n",
              "    </tr>\n",
              "    <tr>\n",
              "      <th>7</th>\n",
              "      <td>Other</td>\n",
              "      <td>225.0</td>\n",
              "      <td>114</td>\n",
              "      <td>1.973684</td>\n",
              "    </tr>\n",
              "    <tr>\n",
              "      <th>8</th>\n",
              "      <td>Radiological</td>\n",
              "      <td>6.0</td>\n",
              "      <td>14</td>\n",
              "      <td>0.428571</td>\n",
              "    </tr>\n",
              "    <tr>\n",
              "      <th>3</th>\n",
              "      <td>Fake Weapons</td>\n",
              "      <td>1.0</td>\n",
              "      <td>33</td>\n",
              "      <td>0.030303</td>\n",
              "    </tr>\n",
              "  </tbody>\n",
              "</table>\n",
              "</div>\n",
              "      <button class=\"colab-df-convert\" onclick=\"convertToInteractive('df-4cc9d5e6-6281-43a3-b791-28e319d797e4')\"\n",
              "              title=\"Convert this dataframe to an interactive table.\"\n",
              "              style=\"display:none;\">\n",
              "        \n",
              "  <svg xmlns=\"http://www.w3.org/2000/svg\" height=\"24px\"viewBox=\"0 0 24 24\"\n",
              "       width=\"24px\">\n",
              "    <path d=\"M0 0h24v24H0V0z\" fill=\"none\"/>\n",
              "    <path d=\"M18.56 5.44l.94 2.06.94-2.06 2.06-.94-2.06-.94-.94-2.06-.94 2.06-2.06.94zm-11 1L8.5 8.5l.94-2.06 2.06-.94-2.06-.94L8.5 2.5l-.94 2.06-2.06.94zm10 10l.94 2.06.94-2.06 2.06-.94-2.06-.94-.94-2.06-.94 2.06-2.06.94z\"/><path d=\"M17.41 7.96l-1.37-1.37c-.4-.4-.92-.59-1.43-.59-.52 0-1.04.2-1.43.59L10.3 9.45l-7.72 7.72c-.78.78-.78 2.05 0 2.83L4 21.41c.39.39.9.59 1.41.59.51 0 1.02-.2 1.41-.59l7.78-7.78 2.81-2.81c.8-.78.8-2.07 0-2.86zM5.41 20L4 18.59l7.72-7.72 1.47 1.35L5.41 20z\"/>\n",
              "  </svg>\n",
              "      </button>\n",
              "      \n",
              "  <style>\n",
              "    .colab-df-container {\n",
              "      display:flex;\n",
              "      flex-wrap:wrap;\n",
              "      gap: 12px;\n",
              "    }\n",
              "\n",
              "    .colab-df-convert {\n",
              "      background-color: #E8F0FE;\n",
              "      border: none;\n",
              "      border-radius: 50%;\n",
              "      cursor: pointer;\n",
              "      display: none;\n",
              "      fill: #1967D2;\n",
              "      height: 32px;\n",
              "      padding: 0 0 0 0;\n",
              "      width: 32px;\n",
              "    }\n",
              "\n",
              "    .colab-df-convert:hover {\n",
              "      background-color: #E2EBFA;\n",
              "      box-shadow: 0px 1px 2px rgba(60, 64, 67, 0.3), 0px 1px 3px 1px rgba(60, 64, 67, 0.15);\n",
              "      fill: #174EA6;\n",
              "    }\n",
              "\n",
              "    [theme=dark] .colab-df-convert {\n",
              "      background-color: #3B4455;\n",
              "      fill: #D2E3FC;\n",
              "    }\n",
              "\n",
              "    [theme=dark] .colab-df-convert:hover {\n",
              "      background-color: #434B5C;\n",
              "      box-shadow: 0px 1px 3px 1px rgba(0, 0, 0, 0.15);\n",
              "      filter: drop-shadow(0px 1px 2px rgba(0, 0, 0, 0.3));\n",
              "      fill: #FFFFFF;\n",
              "    }\n",
              "  </style>\n",
              "\n",
              "      <script>\n",
              "        const buttonEl =\n",
              "          document.querySelector('#df-4cc9d5e6-6281-43a3-b791-28e319d797e4 button.colab-df-convert');\n",
              "        buttonEl.style.display =\n",
              "          google.colab.kernel.accessAllowed ? 'block' : 'none';\n",
              "\n",
              "        async function convertToInteractive(key) {\n",
              "          const element = document.querySelector('#df-4cc9d5e6-6281-43a3-b791-28e319d797e4');\n",
              "          const dataTable =\n",
              "            await google.colab.kernel.invokeFunction('convertToInteractive',\n",
              "                                                     [key], {});\n",
              "          if (!dataTable) return;\n",
              "\n",
              "          const docLinkHtml = 'Like what you see? Visit the ' +\n",
              "            '<a target=\"_blank\" href=https://colab.research.google.com/notebooks/data_table.ipynb>data table notebook</a>'\n",
              "            + ' to learn more about interactive tables.';\n",
              "          element.innerHTML = '';\n",
              "          dataTable['output_type'] = 'display_data';\n",
              "          await google.colab.output.renderOutput(dataTable, element);\n",
              "          const docLink = document.createElement('div');\n",
              "          docLink.innerHTML = docLinkHtml;\n",
              "          element.appendChild(docLink);\n",
              "        }\n",
              "      </script>\n",
              "    </div>\n",
              "  </div>\n",
              "  "
            ]
          },
          "metadata": {},
          "execution_count": 62
        }
      ]
    },
    {
      "cell_type": "code",
      "source": [
        "weaplabels=table2['Weaptype'].tolist()\n",
        "weaplabels"
      ],
      "metadata": {
        "id": "3e7o0zPEDLDY",
        "outputId": "abcc090a-15c7-4e10-cc07-2f7e2c0f97c4",
        "colab": {
          "base_uri": "https://localhost:8080/"
        }
      },
      "execution_count": 63,
      "outputs": [
        {
          "output_type": "execute_result",
          "data": {
            "text/plain": [
              "['Explosives',\n",
              " 'Firearms',\n",
              " 'Unknown',\n",
              " 'Vehicle',\n",
              " 'Melee',\n",
              " 'Chemical',\n",
              " 'Incendiary',\n",
              " 'Biological',\n",
              " 'Sabotage Equipment',\n",
              " 'Other',\n",
              " 'Radiological',\n",
              " 'Fake Weapons']"
            ]
          },
          "metadata": {},
          "execution_count": 63
        }
      ]
    },
    {
      "cell_type": "code",
      "source": [
        "y=np.arange(len(weaplabels))"
      ],
      "metadata": {
        "id": "TPd433iODLTx"
      },
      "execution_count": 64,
      "outputs": []
    },
    {
      "cell_type": "code",
      "source": [
        "weapdmg=table2['Damage'].tolist()"
      ],
      "metadata": {
        "id": "y4yHFbSYDzbQ"
      },
      "execution_count": 65,
      "outputs": []
    },
    {
      "cell_type": "code",
      "source": [
        "weapdmg"
      ],
      "metadata": {
        "id": "MnyyzIM7DzeU",
        "outputId": "70faeb98-3ecb-4174-d4ed-ac8f42fd5f42",
        "colab": {
          "base_uri": "https://localhost:8080/"
        }
      },
      "execution_count": 66,
      "outputs": [
        {
          "output_type": "execute_result",
          "data": {
            "text/plain": [
              "[537788.0,\n",
              " 225473.0,\n",
              " 50167.0,\n",
              " 20297.0,\n",
              " 14489.0,\n",
              " 14377.0,\n",
              " 8898.0,\n",
              " 814.0,\n",
              " 357.0,\n",
              " 225.0,\n",
              " 6.0,\n",
              " 1.0]"
            ]
          },
          "metadata": {},
          "execution_count": 66
        }
      ]
    },
    {
      "cell_type": "code",
      "source": [
        "wgray=(0.5,0.64,0.65)"
      ],
      "metadata": {
        "id": "-FazuQD7Dztd"
      },
      "execution_count": 67,
      "outputs": []
    },
    {
      "cell_type": "code",
      "source": [
        "w_cat=['Explosives','Firearms','Unknown','Incendiary']"
      ],
      "metadata": {
        "id": "IlXLvRsLDzwd"
      },
      "execution_count": 68,
      "outputs": []
    },
    {
      "cell_type": "code",
      "source": [
        "wcolorcat=sns.color_palette('Set2',8)[:4:1]"
      ],
      "metadata": {
        "id": "qglp3gfeD0Ap"
      },
      "execution_count": 69,
      "outputs": []
    },
    {
      "cell_type": "code",
      "source": [
        "wcolor_cat_dict=dict(zip(w_cat,wcolorcat))"
      ],
      "metadata": {
        "id": "TtSed1RzD0Do"
      },
      "execution_count": 70,
      "outputs": []
    },
    {
      "cell_type": "code",
      "source": [
        "wcolor_list=[wcolor_cat_dict[ter_type] if\n",
        "            ter_type in wcolor_cat_dict.keys() else wgray for ter_type in weaplabels]"
      ],
      "metadata": {
        "id": "Lm3YD9Tp-DWg"
      },
      "execution_count": 71,
      "outputs": []
    },
    {
      "cell_type": "code",
      "source": [
        "w_rate=table2['Weap_damage_rate'].tolist()"
      ],
      "metadata": {
        "id": "tb-dTWht-Dkf"
      },
      "execution_count": 72,
      "outputs": []
    },
    {
      "cell_type": "code",
      "source": [
        "fig,ax1=plt.subplots(figsize=(15,8))\n",
        "# Bar chart\n",
        "ax1.bar(weaplabels,weapdmg,color=wcolor_list,align='center')\n",
        "#Number in bar chart\n",
        "for i,v in enumerate(weapdmg):\n",
        "    ax1.text(i-0.3,v-13000 if v==37209 else v+3000, str(round(v)),color='w' if v==37209 else 'k',fontweight='bold')\n",
        "#insert a second plot -line plot\n",
        "ax2=ax1.twinx()\n",
        "ax2.plot(weaplabels,w_rate,linestyle='--',linewidth=4,marker='o',markerfacecolor='black',markersize='10',\n",
        "        label='Mean of Dead/Injured People',color='#C44D51')\n",
        "plt.title('Weapon Types and Damage',fontsize=25,pad=20, color=sns.cubehelix_palette(8,start=.5,rot=-.75)[-3])\n",
        "ax1.set(xlabel='Type of Weapons',ylabel='Number of Dead/Injured People')\n",
        "ax1.set_xticklabels(weaplabels,rotation=45)\n",
        "plt.yticks(fontsize=10)\n",
        "ax2.legend(loc='upper center')\n",
        "fig.show()\n"
      ],
      "metadata": {
        "id": "RbN7O-_o9fy9",
        "outputId": "d24e80c7-f407-4378-a5dc-5d038bf86593",
        "colab": {
          "base_uri": "https://localhost:8080/",
          "height": 607
        }
      },
      "execution_count": 73,
      "outputs": [
        {
          "output_type": "display_data",
          "data": {
            "text/plain": [
              "<Figure size 1080x576 with 2 Axes>"
            ],
            "image/png": "[encoded data removed]"
          },
          "metadata": {
            "needs_background": "light"
          }
        }
      ]
    }
  ]
}